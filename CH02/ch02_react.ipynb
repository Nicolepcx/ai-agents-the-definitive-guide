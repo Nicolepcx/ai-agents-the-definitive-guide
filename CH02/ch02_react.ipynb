{
  "nbformat": 4,
  "nbformat_minor": 0,
  "metadata": {
    "colab": {
      "provenance": [],
      "machine_shape": "hm"
    },
    "kernelspec": {
      "name": "python3",
      "display_name": "Python 3"
    },
    "language_info": {
      "name": "python"
    }
  },
  "cells": [
    {
      "cell_type": "markdown",
      "source": [
        "# Open in Colab\n",
        "<a target=\"_blank\" href=\"https://colab.research.google.com/github/Nicolepcx/ai-agents-the-definitive-guide/blob/main/CH02/ch02_react.ipynb\">\n",
        "  <img src=\"https://colab.research.google.com/assets/colab-badge.svg\" alt=\"Open In Colab\"/>\n",
        "</a>"
      ],
      "metadata": {
        "id": "QTxbfXN88Jjb"
      }
    },
    {
      "cell_type": "markdown",
      "source": [
        "# About this notebook\n",
        "\n",
        "This notebook is a focused walkthrough of building a minimal ReAct-style agent with **LangGraph** and **LangChain OpenAI**, including a compact internet search tool and a readable execution trace. You will see how to bind tools to a model, route between the model and tools, and print a clear transcript that mirrors ReAct action-observation-final answer patterns.\n",
        "\n",
        "## What it shows\n",
        "\n",
        "* **Typed agent state** that accumulates `messages` using the `add_messages` reducer.\n",
        "* **Tool binding** to `gpt-4o-mini` with a single `internet_search` tool backed by SerpAPI that returns compact JSON.\n",
        "* **Two node graph**\n",
        "\n",
        "  1. `agent` node that calls the model with a system prompt\n",
        "  2. `tools` node that executes any pending tool calls and returns `ToolMessage` outputs.\n",
        "* **Conditional routing** that loops model → tools → model until no tool calls remain, then ends.\n",
        "* **ReAct style tracing** with `print_react_trace(question)` that prints a short reasoning summary, the tool action, the observation, and the final answer.\n",
        "* **Optional graph preview** using Mermaid PNG rendering.\n",
        "\n",
        "## What you will run\n",
        "\n",
        "1. Install a small stack: `langgraph`, `langchain-openai`, `python-dotenv`, and `google-search-results`.\n",
        "2. Load environment keys from `.env` and validate `OPENAI_API_KEY`. Use `SERPAPI_API_KEY` for live search.\n",
        "3. Define the `internet_search` tool that queries Google through SerpAPI and returns top results as JSON.\n",
        "4. Build and compile a **StateGraph** with the `agent` and `tools` nodes and an `END` condition.\n",
        "5. Call `print_react_trace(\"What is the weather in Zurich today?\")` to see the full loop and the final reply.\n",
        "6. Optionally render the graph image with Mermaid.\n",
        "\n",
        "## How it works\n",
        "\n",
        "* The **system prompt** instructs the assistant to keep tool calls terse and to finish with a clear final answer.\n",
        "* The **agent node** invokes the model on `[SYSTEM_PROMPT] + state[\"messages\"]`.\n",
        "* The **tools node** inspects `last.tool_calls`, executes each tool by name, and emits `ToolMessage` objects with the JSON payload.\n",
        "* The **router** function `should_continue` returns `\"continue\"` if there are tool calls, otherwise `\"end\"`.\n",
        "\n",
        "## Why this pattern\n",
        "\n",
        "* ReAct style agents are easy to reason about. The notebook prints a human legible trace without leaking chain of thought.\n",
        "* LangGraph keeps control flow explicit and makes the transition function trivial to read and test.\n",
        "* Tool outputs are normalized to JSON so the model can parse consistent observations.\n",
        "\n",
        "## Extend and adapt\n",
        "\n",
        "* Add more tools and include them in `TOOLS` and `TOOLS_BY_NAME`.\n",
        "* Swap SerpAPI with another search backend that returns JSON.\n",
        "* Persist memory by replacing the default in memory behavior with a checkpointer.\n",
        "* Add validation or summarization nodes before the final answer if you need grounded outputs.\n",
        "\n",
        "## Requirements and notes\n",
        "\n",
        "* You need `OPENAI_API_KEY`. Live search requires `SERPAPI_API_KEY`.\n",
        "* Internet results change over time. Expect different snippets and answers on different days.\n",
        "* Mermaid rendering may require extra packages. The graph preview is optional.\n"
      ],
      "metadata": {
        "id": "R3pwlizxPcVf"
      }
    },
    {
      "cell_type": "markdown",
      "source": [
        "# Dependencies"
      ],
      "metadata": {
        "id": "yBobNsHK0o1Y"
      }
    },
    {
      "cell_type": "code",
      "source": [
        "!pip install -qqq langgraph==0.6.7 langchain-openai==0.3.33 python-dotenv==1.1.1 google-search-results"
      ],
      "metadata": {
        "colab": {
          "base_uri": "https://localhost:8080/"
        },
        "id": "8oJLYW3ZmXkp",
        "outputId": "44d493d4-8242-4fda-f225-7b916984313c"
      },
      "execution_count": 1,
      "outputs": [
        {
          "output_type": "stream",
          "name": "stdout",
          "text": [
            "  Preparing metadata (setup.py) ... \u001b[?25l\u001b[?25hdone\n",
            "\u001b[2K     \u001b[90m━━━━━━━━━━━━━━━━━━━━━━━━━━━━━━━━━━━━━━━\u001b[0m \u001b[32m43.7/43.7 kB\u001b[0m \u001b[31m945.7 kB/s\u001b[0m eta \u001b[36m0:00:00\u001b[0m\n",
            "\u001b[2K   \u001b[90m━━━━━━━━━━━━━━━━━━━━━━━━━━━━━━━━━━━━━━━━\u001b[0m \u001b[32m153.3/153.3 kB\u001b[0m \u001b[31m3.2 MB/s\u001b[0m eta \u001b[36m0:00:00\u001b[0m\n",
            "\u001b[2K   \u001b[90m━━━━━━━━━━━━━━━━━━━━━━━━━━━━━━━━━━━━━━━━\u001b[0m \u001b[32m75.0/75.0 kB\u001b[0m \u001b[31m5.1 MB/s\u001b[0m eta \u001b[36m0:00:00\u001b[0m\n",
            "\u001b[2K   \u001b[90m━━━━━━━━━━━━━━━━━━━━━━━━━━━━━━━━━━━━━━━━\u001b[0m \u001b[32m43.9/43.9 kB\u001b[0m \u001b[31m2.8 MB/s\u001b[0m eta \u001b[36m0:00:00\u001b[0m\n",
            "\u001b[2K   \u001b[90m━━━━━━━━━━━━━━━━━━━━━━━━━━━━━━━━━━━━━━━━\u001b[0m \u001b[32m56.8/56.8 kB\u001b[0m \u001b[31m3.6 MB/s\u001b[0m eta \u001b[36m0:00:00\u001b[0m\n",
            "\u001b[2K   \u001b[90m━━━━━━━━━━━━━━━━━━━━━━━━━━━━━━━━━━━━━━━━\u001b[0m \u001b[32m216.7/216.7 kB\u001b[0m \u001b[31m8.9 MB/s\u001b[0m eta \u001b[36m0:00:00\u001b[0m\n",
            "\u001b[?25h  Building wheel for google-search-results (setup.py) ... \u001b[?25l\u001b[?25hdone\n"
          ]
        }
      ]
    },
    {
      "cell_type": "markdown",
      "source": [
        "# Imports"
      ],
      "metadata": {
        "id": "TFtqNSMaQqab"
      }
    },
    {
      "cell_type": "code",
      "source": [
        "from typing import (\n",
        "    Annotated,\n",
        "    Sequence,\n",
        "    TypedDict,\n",
        ")\n",
        "from langchain_core.messages import BaseMessage\n",
        "from langgraph.graph.message import add_messages\n",
        "\n",
        "from __future__ import annotations\n",
        "from typing import Annotated, Sequence, TypedDict, Dict, Any\n",
        "import os\n",
        "import json\n",
        "\n",
        "from dotenv import load_dotenv\n",
        "from langchain_core.messages import BaseMessage, ToolMessage, SystemMessage\n",
        "from langchain_core.runnables import RunnableConfig\n",
        "from langchain_core.tools import tool\n",
        "from langchain_openai import ChatOpenAI\n",
        "from langgraph.graph import StateGraph, END\n",
        "from langgraph.graph.message import add_messages\n"
      ],
      "metadata": {
        "id": "DYZyu4fvQq8a"
      },
      "execution_count": null,
      "outputs": []
    },
    {
      "cell_type": "markdown",
      "source": [
        "# API Setup"
      ],
      "metadata": {
        "id": "4fLfSvvMSXcy"
      }
    },
    {
      "cell_type": "code",
      "source": [
        "# --- API Key Setup ---\n",
        "# Option 1 (preferred): create a `.env` file in your project folder with:\n",
        "# OPENAI_API_KEY=your_openai_key_here\n",
        "# SERPAPI_API_KEY=your_serpapi_key_here\n",
        "#\n",
        "# Option 2: set it directly in the notebook with magic:\n",
        "# %env OPENAI_API_KEY=your_openai_key_here\n",
        "# %env SERPAPI_API_KEY=your_serpapi_key_here\n",
        "\n",
        "from dotenv import load_dotenv\n",
        "import os\n",
        "\n",
        "# Load from .env if available\n",
        "load_dotenv()\n",
        "\n",
        "OPENAI_API_KEY = os.getenv('OPENAI_API_KEY')\n",
        "serp_api_key = os.getenv(\"SERPAPI_API_KEY\")\n",
        "\n",
        "\n",
        "# Fallback: ask if still missing\n",
        "if not OPENAI_API_KEY:\n",
        "    print(\"⚠️ OPENAI_API_KEY not found. You can set it with `%env` in the notebook or enter it below.\")\n",
        "    OPENAI_API_KEY = input(\"Enter your OPENAI_API_KEY: \").strip()\n",
        "\n",
        "if not serp_api_key:\n",
        "    print(\"⚠️ SERPAPI_API_KEY not found. You can set it with `%env` in the notebook or enter it below.\")\n",
        "    serp_api_key = input(\"Enter your SERPAPI_API_KEY: \").strip()\n",
        "\n",
        "\n",
        "print(\"✅ API keys loaded successfully!\")\n",
        "\n"
      ],
      "metadata": {
        "id": "lUIyjhSCn3wN"
      },
      "execution_count": null,
      "outputs": []
    },
    {
      "cell_type": "markdown",
      "source": [
        "# Graph State"
      ],
      "metadata": {
        "id": "iNvAD4N4QvgE"
      }
    },
    {
      "cell_type": "code",
      "source": [
        "class AgentState(TypedDict):\n",
        "    \"\"\"The state of the agent.\"\"\"\n",
        "\n",
        "    # add_messages is a reducer\n",
        "    # See https://langchain-ai.github.io/langgraph/concepts/low_level/#reducers\n",
        "    messages: Annotated[Sequence[BaseMessage], add_messages]"
      ],
      "metadata": {
        "id": "7fx-7jsznK_l"
      },
      "execution_count": null,
      "outputs": []
    },
    {
      "cell_type": "markdown",
      "source": [
        "# LLM Setup"
      ],
      "metadata": {
        "id": "ZkkZIpTsSdbI"
      }
    },
    {
      "cell_type": "code",
      "source": [
        "model = ChatOpenAI(model=\"gpt-4o-mini\", temperature=0)"
      ],
      "metadata": {
        "id": "kdaNFT5iSfO-"
      },
      "execution_count": null,
      "outputs": []
    },
    {
      "cell_type": "markdown",
      "source": [
        "# Tools"
      ],
      "metadata": {
        "id": "aFfbYp4PSmLi"
      }
    },
    {
      "cell_type": "code",
      "source": [
        "@tool(\"internet_search\")\n",
        "def internet_search(query: str) -> str:\n",
        "    \"\"\"\n",
        "    Search Google via SerpAPI for up to date information. Returns compact JSON string.\n",
        "    \"\"\"\n",
        "    try:\n",
        "        if not SERPAPI_API_KEY:\n",
        "            return json.dumps({\"error\": \"SERPAPI_API_KEY missing\", \"results\": []})\n",
        "        from serpapi import GoogleSearch  # import inside to keep import path clean\n",
        "        params = {\n",
        "            \"engine\": \"google\",\n",
        "            \"q\": query,\n",
        "            \"api_key\": SERPAPI_API_KEY,\n",
        "            \"num\": 5,\n",
        "            \"hl\": \"en\",\n",
        "            \"gl\": \"us\",\n",
        "        }\n",
        "        data = GoogleSearch(params).get_dict()\n",
        "        results = []\n",
        "        for r in (data.get(\"organic_results\") or [])[:5]:\n",
        "            results.append({\n",
        "                \"title\": r.get(\"title\"),\n",
        "                \"link\": r.get(\"link\"),\n",
        "                \"snippet\": r.get(\"snippet\"),\n",
        "                \"source\": r.get(\"source\"),\n",
        "            })\n",
        "        return json.dumps({\"results\": results}, ensure_ascii=False)\n",
        "    except Exception as e:\n",
        "        return json.dumps({\"error\": str(e), \"results\": []})\n",
        "\n",
        "TOOLS = [internet_search]\n",
        "TOOLS_BY_NAME = {t.name: t for t in TOOLS}\n",
        "model = model.bind_tools(TOOLS)\n"
      ],
      "metadata": {
        "id": "h7ZeH_vsSmx6"
      },
      "execution_count": null,
      "outputs": []
    },
    {
      "cell_type": "markdown",
      "source": [
        "# Nodes"
      ],
      "metadata": {
        "id": "Hipi3Id3SqLn"
      }
    },
    {
      "cell_type": "code",
      "source": [
        "SYSTEM_PROMPT = SystemMessage(\n",
        "    content=(\n",
        "        \"You are a helpful AI assistant. \"\n",
        "        \"Use tools when helpful. \"\n",
        "        \"When you call a tool, keep your message short and focused on the action. \"\n",
        "        \"When you finish, reply with a clear final answer for the user.\"\n",
        "    )\n",
        ")\n",
        "\n",
        "def call_model(state: AgentState, config: RunnableConfig) -> Dict[str, Any]:\n",
        "    response = model.invoke([SYSTEM_PROMPT] + state[\"messages\"], config)\n",
        "    return {\"messages\": [response]}\n",
        "\n",
        "def tool_node(state: AgentState) -> Dict[str, Any]:\n",
        "    \"\"\"\n",
        "    Execute any tool calls produced by the last AI message and return ToolMessage objects.\n",
        "    \"\"\"\n",
        "    last = state[\"messages\"][-1]\n",
        "    outputs: list[ToolMessage] = []\n",
        "    for tc in getattr(last, \"tool_calls\", []) or []:\n",
        "        name = tc.get(\"name\")\n",
        "        args = tc.get(\"args\") or {}\n",
        "        tool_fn = TOOLS_BY_NAME.get(name)\n",
        "        if not tool_fn:\n",
        "            result = json.dumps({\"error\": f\"Unknown tool {name}\"})\n",
        "        else:\n",
        "            result = tool_fn.invoke(args)\n",
        "        outputs.append(\n",
        "            ToolMessage(\n",
        "                content=result,\n",
        "                name=name,\n",
        "                tool_call_id=tc.get(\"id\"),\n",
        "            )\n",
        "        )\n",
        "    return {\"messages\": outputs}\n",
        "\n",
        "def should_continue(state: AgentState) -> str:\n",
        "    last = state[\"messages\"][-1]\n",
        "    if getattr(last, \"tool_calls\", None):\n",
        "        return \"continue\"\n",
        "    return \"end\""
      ],
      "metadata": {
        "id": "IOVVb52lStf8"
      },
      "execution_count": null,
      "outputs": []
    },
    {
      "cell_type": "markdown",
      "source": [
        "# Graph"
      ],
      "metadata": {
        "id": "KqOgBpg7SvfQ"
      }
    },
    {
      "cell_type": "code",
      "source": [
        "workflow = StateGraph(AgentState)\n",
        "workflow.add_node(\"agent\", call_model)\n",
        "workflow.add_node(\"tools\", tool_node)\n",
        "workflow.set_entry_point(\"agent\")\n",
        "\n",
        "workflow.add_conditional_edges(\n",
        "    \"agent\",\n",
        "    should_continue,\n",
        "    {\"continue\": \"tools\", \"end\": END},\n",
        ")\n",
        "\n",
        "workflow.add_edge(\"tools\", \"agent\")\n",
        "graph = workflow.compile()\n"
      ],
      "metadata": {
        "id": "BMactYlMSwBn"
      },
      "execution_count": null,
      "outputs": []
    },
    {
      "cell_type": "markdown",
      "source": [
        "# ReAct style trace"
      ],
      "metadata": {
        "id": "mVtE4r3bSy6l"
      }
    },
    {
      "cell_type": "code",
      "source": [
        "def _shorten(text: str, n: int = 280) -> str:\n",
        "    if len(text) <= n:\n",
        "        return text\n",
        "    return text[: n - 3] + \"...\"\n",
        "\n",
        "def print_react_trace(question: str) -> str:\n",
        "    \"\"\"\n",
        "    Run the graph and print a concise ReAct style transcript.\n",
        "    Returns the final answer string.\n",
        "    \"\"\"\n",
        "    print(\"> Entering new ReAct trace...\")\n",
        "    print(f\"Question: {question}\\n\")\n",
        "\n",
        "    final_answer = None\n",
        "    inputs = {\"messages\": [(\"user\", question)]}\n",
        "\n",
        "    for step in graph.stream(inputs, stream_mode=\"values\"):\n",
        "        msg = step[\"messages\"][-1]\n",
        "\n",
        "        # AI proposes a tool call\n",
        "        if hasattr(msg, \"tool_calls\") and msg.tool_calls:\n",
        "            # Avoid chain of thought leakage. Provide a short reasoning summary instead.\n",
        "            print(\"Reasoning Summary: selecting a tool based on the query\")\n",
        "            for tc in msg.tool_calls:\n",
        "                name = tc.get(\"name\")\n",
        "                args = tc.get(\"args\") or {}\n",
        "                print(\"Action:\")\n",
        "                print(\"```\")\n",
        "                print(json.dumps({\"action\": name, \"action_input\": args}, indent=2))\n",
        "                print(\"```\")\n",
        "                print()\n",
        "\n",
        "        # Tool result\n",
        "        elif isinstance(msg, ToolMessage):\n",
        "            try:\n",
        "                payload = json.loads(msg.content) if msg.content else {}\n",
        "            except Exception:\n",
        "                payload = {\"raw\": msg.content}\n",
        "            results = payload.get(\"results\", [])\n",
        "            if results:\n",
        "                top = results[0]\n",
        "                obs = {\n",
        "                    \"title\": top.get(\"title\"),\n",
        "                    \"snippet\": _shorten(top.get(\"snippet\", \"\")),\n",
        "                    \"link\": top.get(\"link\"),\n",
        "                    \"source\": top.get(\"source\"),\n",
        "                }\n",
        "            else:\n",
        "                obs = payload if payload else {\"note\": \"empty tool response\"}\n",
        "            print(\"Observation:\")\n",
        "            print(\"```\")\n",
        "            print(_shorten(json.dumps(obs, indent=2)))\n",
        "            print(\"```\")\n",
        "            print()\n",
        "\n",
        "        # Final AI reply\n",
        "        else:\n",
        "            # This fires both mid run and at the end. The conditional edge ends when no tool_calls.\n",
        "            if not getattr(msg, \"tool_calls\", None):\n",
        "                final_answer = msg.content\n",
        "                print(\"Final Answer:\", final_answer)\n",
        "                print(\"\\n> Finished trace.\\n\")\n",
        "\n",
        "    return final_answer\n"
      ],
      "metadata": {
        "id": "PHRXRXvXS17J"
      },
      "execution_count": null,
      "outputs": []
    },
    {
      "cell_type": "markdown",
      "source": [
        "# Run the Graph"
      ],
      "metadata": {
        "id": "E4_qY3YBS4lW"
      }
    },
    {
      "cell_type": "code",
      "source": [
        "\n",
        "if __name__ == \"__main__\":\n",
        "    print_react_trace(\"What is the weather in Zurich today?\")\n"
      ],
      "metadata": {
        "colab": {
          "base_uri": "https://localhost:8080/"
        },
        "id": "NmUSkOQ-s6x1",
        "outputId": "3774baa1-6f4d-4bf9-f6a4-8951db4d86bc"
      },
      "execution_count": null,
      "outputs": [
        {
          "output_type": "stream",
          "name": "stdout",
          "text": [
            "> Entering new ReAct trace...\n",
            "Question: What is the weather in Zurich today?\n",
            "\n",
            "Final Answer: What is the weather in Zurich today?\n",
            "\n",
            "> Finished trace.\n",
            "\n",
            "Reasoning Summary: selecting a tool based on the query\n",
            "Action:\n",
            "```\n",
            "{\n",
            "  \"action\": \"internet_search\",\n",
            "  \"action_input\": {\n",
            "    \"query\": \"Zurich weather today\"\n",
            "  }\n",
            "}\n",
            "```\n",
            "\n",
            "Observation:\n",
            "```\n",
            "{\n",
            "  \"title\": \"Zurich, Zurich, Switzerland Weather Forecast\",\n",
            "  \"snippet\": \"Hourly Weather \\u00b7 1 PM 74\\u00b0. rain drop 0% \\u00b7 2 PM 80\\u00b0. rain drop 0% \\u00b7 3 PM 82\\u00b0. rain drop 0% \\u00b7 4 PM 83\\u00b0. rain drop 0% \\u00b7 5 PM 84\\u00b0. rain drop 0% \\u00b7 6 PM ...\n",
            "```\n",
            "\n",
            "Final Answer: Today in Zurich, the weather is mostly sunny with a high of 82°F (about 28°C) and a low of 62°F (about 17°C). Winds are light from the southwest at 6 mph. \n",
            "\n",
            "For more details, you can check the full forecast [here](https://www.accuweather.com/en/ch/zurich/316622/weather-forecast/316622).\n",
            "\n",
            "> Finished trace.\n",
            "\n"
          ]
        }
      ]
    },
    {
      "cell_type": "markdown",
      "source": [
        "# Plot the Graph"
      ],
      "metadata": {
        "id": "T5vv9iEwS9km"
      }
    },
    {
      "cell_type": "code",
      "source": [
        "from IPython.display import Image, display\n",
        "\n",
        "try:\n",
        "    display(Image(graph.get_graph().draw_mermaid_png()))\n",
        "except Exception:\n",
        "    # This requires some extra dependencies and is optional\n",
        "    pass"
      ],
      "metadata": {
        "colab": {
          "base_uri": "https://localhost:8080/",
          "height": 290
        },
        "id": "ItqtXE88tdOk",
        "outputId": "5d537c14-0fc1-4cbf-c0e7-2ef0616d5c1b"
      },
      "execution_count": null,
      "outputs": [
        {
          "output_type": "display_data",
          "data": {
            "image/png": "[encoded data removed]",
            "text/plain": [
              "<IPython.core.display.Image object>"
            ]
          },
          "metadata": {}
        }
      ]
    },
    {
      "cell_type": "markdown",
      "source": [
        "### NOTE: Sometimes Mermaid doesn't work online\n",
        "\n",
        "In that case you can do: `print(hier.get_graph().draw_ascii())`\n",
        "or: `print(hier.get_graph().draw_mermaid())`\n",
        "\n",
        "and then go to [Mermaid Live Editor](https://mermaid.live/edit#pako:eNp1kmFrgzAQhv9KuMFoQZ3a1bRp6Zf1J-zTliGpJiqkicS4rSv974ux2PXDEOLd8d77HJecodAlBwJhGFJVaCWailCFkJD6q6iZsT5DqOjNJydINoozQ5WXV4a1NXrdb6iiNs876-R5Pnvftrsp2z61u485IUQ0prOD8NCfuJn5cz7kHZfSFcafr7gxrNG-egvnI4SrckL4eAJINvpPaBSGO-Q5m4nrayNqc49CYYQe1aFrN6VWfIxQ5NRXzr9yqXX7R34DjhhPvPWNNm7Wbs8FKrlgvbRINFKSB5GKWIhg2HFY86aqLUmi9K7Bb9HLQ92yorEnEt8Jhi1c7Q7ikImCKgigMk0JRDDZ8QCO3BzZkMN5uFsKtuZHToG48DoQBaourq9l6k3rIxBretdpdF_Vk0_flszyfcPcO7hJ3LK4edG9skCS2FsAOcO3yxY4wqslXiySZJk9JzgL4AQkfY6jeJllGcZr963SSwA_HhpH2TJJsjRe4XWCFyleX34BzNfoqQ) to past this in to plot the Graph."
      ],
      "metadata": {
        "id": "wyyot7TITJqj"
      }
    },
    {
      "cell_type": "code",
      "source": [],
      "metadata": {
        "id": "JINf4Wb3TROz"
      },
      "execution_count": null,
      "outputs": []
    }
  ]
}