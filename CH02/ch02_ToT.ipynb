{
  "nbformat": 4,
  "nbformat_minor": 0,
  "metadata": {
    "colab": {
      "provenance": []
    },
    "kernelspec": {
      "name": "python3",
      "display_name": "Python 3"
    },
    "language_info": {
      "name": "python"
    }
  },
  "cells": [
    {
      "cell_type": "markdown",
      "source": [
        "\n",
        "# About this notebook\n",
        "\n",
        "This notebook walks through a small but complete multi agent writing workflow that plans, researches, and drafts a developer focused blog post. It combines structured outputs, a tool using research step, and a simple LangGraph pipeline with checkpoints.\n",
        "\n",
        "## What it shows\n",
        "\n",
        "* **A four stage graph**\n",
        "\n",
        "  1. **propose** generates three creative options with structured output\n",
        "  2. **reflect** critiques and selects the best option with a stronger judge\n",
        "  3. **research** uses SerpAPI search to collect sources and synthesize JSON\n",
        "  4. **draft** produces a final outline and intro for the chosen plan\n",
        "* **Separation of roles and models**\n",
        "\n",
        "  * a small creative generator\n",
        "  * a stricter judge\n",
        "  * a tool bound researcher\n",
        "  * a small writer for the final draft\n",
        "* **Typed state** with accumulated messages, option and choice JSON, synthesized sources, and the final draft\n",
        "* **In memory checkpoints** with `MemorySaver`\n",
        "* **Readable streaming trace** that prints per node updates during execution\n",
        "* **Graph preview** via Mermaid PNG\n",
        "\n",
        "## What you will run\n",
        "\n",
        "1. Load `OPENAI_API_KEY` and `SERPAPI_API_KEY` from `.env`.\n",
        "2. Define an `internet_search` tool that returns compact JSON results from SerpAPI.\n",
        "3. Create Pydantic schemas for options, choice, and queries to keep outputs structured.\n",
        "4. Wire a **linear LangGraph** with four nodes and compile it with a checkpointer.\n",
        "5. Start a run with a topic prompt and watch the system stream updates from each node.\n",
        "6. Inspect the final draft and render the graph image.\n",
        "\n",
        "## How it works\n",
        "\n",
        "* **Propose options** uses `with_structured_output(OptionsPayload)` to force three options with consistent fields.\n",
        "* **Reflect and select** uses a stronger model with `ChoicePayload` to pick the best option by index with a rationale. The code clamps the index defensively.\n",
        "* **Research with tools**\n",
        "\n",
        "  * the researcher proposes 3 to 5 precise queries with a structured schema\n",
        "  * the notebook calls `internet_search` for each query and collects raw findings\n",
        "  * a compact synthesis step turns findings into a clean `sources_json` payload with suggested citations\n",
        "* **Draft outline and intro** converts the chosen plan and sources into a title, audience sentence, a five section outline, and a short intro.\n",
        "\n",
        "## Why this pattern\n",
        "\n",
        "* Clear role separation improves quality and transparency. Generation, evaluation, research, and writing are handled by different prompts and sometimes different models.\n",
        "* Structured outputs reduce ambiguity and make routing trivial.\n",
        "* Tool use is explicit and observable which makes the process auditable.\n",
        "* LangGraph keeps control flow readable and provides thread scoped memory with almost no boilerplate.\n",
        "\n",
        "## Extend and adapt\n",
        "\n",
        "* Swap SerpAPI with your preferred search or add a docs repository tool.\n",
        "* Add a factuality checker or citation verifier between research and drafting.\n",
        "* Persist checkpoints to a database for long running projects.\n",
        "* Add a final formatter node that turns the draft into Markdown or HTML.\n",
        "\n",
        "## Requirements and notes\n",
        "\n",
        "* `OPENAI_API_KEY` is required. Live search needs `SERPAPI_API_KEY`.\n",
        "* Internet results change over time. Expect different sources on different runs.\n",
        "* The creative model is set slightly higher temperature. The judge is near zero for stability.\n",
        "* Token and API costs can add up when streaming multiple stages.\n",
        "\n",
        "## Intended audience\n",
        "\n",
        "Engineers, technical writers, and researchers who want a practical template for a small, role based writing agent that mixes structured planning, tool assisted research, and drafting inside a simple LangGraph workflow.\n"
      ],
      "metadata": {
        "id": "Lbydfhci2xWT"
      }
    },
    {
      "cell_type": "markdown",
      "source": [
        "# Open in Colab\n",
        "<a target=\"_blank\" href=\"https://colab.research.google.com/github/Nicolepcx/ai-agents-the-definitive-guide/blob/main/CH02/ch02_ToT.ipynb\">\n",
        "  <img src=\"https://colab.research.google.com/assets/colab-badge.svg\" alt=\"Open In Colab\"/>\n",
        "</a>"
      ],
      "metadata": {
        "id": "Y85ppexW8M_O"
      }
    },
    {
      "cell_type": "markdown",
      "source": [
        "# Dependencies"
      ],
      "metadata": {
        "id": "qOqKZljFGX1u"
      }
    },
    {
      "cell_type": "code",
      "source": [
        "!pip install -q langchain==0.3.27 \\\n",
        "                langgraph==0.6.7 \\\n",
        "                langchain-openai==0.3.32 \\\n",
        "                langchain_experimental==0.3.4 \\\n",
        "                langchain_community==0.3.29 \\\n",
        "                python-dotenv==1.0.1 \\\n",
        "                langchain-core==0.3.75 \\\n",
        "                serpapi==0.1.5 \\\n",
        "                google-search-results==2.4.2"
      ],
      "metadata": {
        "id": "OFkVs-oI7c82"
      },
      "execution_count": null,
      "outputs": []
    },
    {
      "cell_type": "markdown",
      "source": [
        "# API Setup"
      ],
      "metadata": {
        "id": "wQzGGCbj2sJn"
      }
    },
    {
      "cell_type": "code",
      "source": [
        "# --- API Key Setup ---\n",
        "# Option 1 (preferred): create a `.env` file in your project folder with:\n",
        "# OPENAI_API_KEY=your_openai_key_here\n",
        "# SERPAPI_API_KEY=your_serpapi_key_here\n",
        "#\n",
        "# Option 2: set it directly in the notebook with magic:\n",
        "# %env OPENAI_API_KEY=your_openai_key_here\n",
        "# %env SERPAPI_API_KEY=your_serpapi_key_here\n",
        "\n",
        "from dotenv import load_dotenv\n",
        "import os\n",
        "\n",
        "# Load from .env if available\n",
        "load_dotenv()\n",
        "\n",
        "OPENAI_API_KEY = os.getenv('OPENAI_API_KEY')\n",
        "serp_api_key = os.getenv(\"SERPAPI_API_KEY\")\n",
        "\n",
        "# Fallback: ask if still missing\n",
        "if not OPENAI_API_KEY:\n",
        "    print(\"⚠️ OPENAI_API_KEY not found. You can set it with `%env` in the notebook or enter it below.\")\n",
        "    OPENAI_API_KEY = input(\"Enter your OPENAI_API_KEY: \").strip()\n",
        "\n",
        "if not serp_api_key:\n",
        "    print(\"⚠️ SERPAPI_API_KEY not found. You can set it with `%env` in the notebook or enter it below.\")\n",
        "    serp_api_key = input(\"Enter your SERPAPI_API_KEY: \").strip()\n",
        "\n",
        "print(\"✅ API keys loaded successfully!\")\n",
        "\n"
      ],
      "metadata": {
        "id": "tMGB6TAqAVwv"
      },
      "execution_count": null,
      "outputs": []
    },
    {
      "cell_type": "markdown",
      "source": [
        "# Imports"
      ],
      "metadata": {
        "id": "hBC6syOkkwxO"
      }
    },
    {
      "cell_type": "code",
      "source": [
        "import os, json, uuid\n",
        "from typing import Annotated, List, TypedDict\n",
        "\n",
        "from pydantic import BaseModel, Field\n",
        "\n",
        "from langchain_openai import ChatOpenAI\n",
        "from langchain_core.messages import HumanMessage, AIMessage, BaseMessage, ToolMessage\n",
        "from langchain_core.tools import tool\n",
        "from serpapi import GoogleSearch\n",
        "\n",
        "from langgraph.graph import StateGraph, START, END\n",
        "from langgraph.graph.message import add_messages\n",
        "from langgraph.checkpoint.memory import MemorySaver"
      ],
      "metadata": {
        "id": "RmrVx8Hljgu2"
      },
      "execution_count": null,
      "outputs": []
    },
    {
      "cell_type": "markdown",
      "source": [
        "# Tool: internet_search"
      ],
      "metadata": {
        "id": "9P7J6FUYjoAI"
      }
    },
    {
      "cell_type": "code",
      "source": [
        "@tool(\"internet_search\")\n",
        "def internet_search(query: str) -> str:\n",
        "    \"\"\"Search Google via SerpAPI for up to date information. Returns compact JSON.\"\"\"\n",
        "    key = os.getenv(\"SERPAPI_API_KEY\")\n",
        "    if not key:\n",
        "        return \"[]\"\n",
        "    params = {\"engine\": \"google\", \"q\": query, \"api_key\": key, \"num\": 5, \"hl\": \"en\", \"gl\": \"us\"}\n",
        "    data = GoogleSearch(params).get_dict()\n",
        "    out = []\n",
        "    for r in (data.get(\"organic_results\") or [])[:5]:\n",
        "        out.append({\n",
        "            \"title\": r.get(\"title\"),\n",
        "            \"link\": r.get(\"link\"),\n",
        "            \"snippet\": r.get(\"snippet\"),\n",
        "            \"source\": r.get(\"source\"),\n",
        "        })\n",
        "    return json.dumps(out, ensure_ascii=False)\n",
        "\n",
        "tools = [internet_search]"
      ],
      "metadata": {
        "id": "lwSAPk4FjkOM"
      },
      "execution_count": null,
      "outputs": []
    },
    {
      "cell_type": "markdown",
      "source": [
        "# Models: small generator, stronger judge, tool-bound researcher"
      ],
      "metadata": {
        "id": "I876lAF6juBu"
      }
    },
    {
      "cell_type": "code",
      "source": [
        "gen_llm       = ChatOpenAI(model=\"gpt-4o-mini\", temperature=0.7)   # creative, cheaper\n",
        "judge_llm     = ChatOpenAI(model=\"gpt-4o\",      temperature=0.2)   # stricter judge\n",
        "research_llm  = ChatOpenAI(model=\"gpt-4o-mini\", temperature=0.2).bind_tools(tools, tool_choice=\"auto\")\n",
        "writer_llm    = gen_llm  # reuse small model for drafting\n"
      ],
      "metadata": {
        "id": "vJRENQaEjxf7"
      },
      "execution_count": null,
      "outputs": []
    },
    {
      "cell_type": "markdown",
      "source": [
        "# Structured payloads (Pydantic v2)"
      ],
      "metadata": {
        "id": "mg-D8Vsdj17I"
      }
    },
    {
      "cell_type": "code",
      "source": [
        "class Option(BaseModel):\n",
        "    title: str\n",
        "    audience: str\n",
        "    angle: str\n",
        "    outline: List[str] = Field(min_items=5, max_items=5)\n",
        "    rationale: str\n",
        "\n",
        "class OptionsPayload(BaseModel):\n",
        "    options: List[Option] = Field(min_items=3, max_items=3)\n",
        "\n",
        "class ChoicePayload(BaseModel):\n",
        "    choice_index: int = Field(ge=0, le=2)\n",
        "    rationale: str\n",
        "\n",
        "class Queries(BaseModel):\n",
        "    queries: List[str] = Field(min_items=3, max_items=5)\n"
      ],
      "metadata": {
        "id": "q-eiHfsWj1SH"
      },
      "execution_count": null,
      "outputs": []
    },
    {
      "cell_type": "markdown",
      "source": [
        "# State"
      ],
      "metadata": {
        "id": "kWWLCEhtj8ow"
      }
    },
    {
      "cell_type": "code",
      "source": [
        "class BlogState(TypedDict):\n",
        "    messages: Annotated[List[BaseMessage], add_messages]\n",
        "    topic: str\n",
        "    options_json: str | None\n",
        "    choice_json: str | None\n",
        "    sources_json: str | None\n",
        "    draft: str | None"
      ],
      "metadata": {
        "id": "uTC0XDdUj8Dg"
      },
      "execution_count": null,
      "outputs": []
    },
    {
      "cell_type": "markdown",
      "source": [
        "# Nodes"
      ],
      "metadata": {
        "id": "4EPMoHuykKO5"
      }
    },
    {
      "cell_type": "code",
      "source": [
        "\n",
        "def propose_options(state: BlogState) -> BlogState:\n",
        "    \"\"\"Generator (small): propose 3 creative approaches (ToT-style branching).\"\"\"\n",
        "    proposer = gen_llm.with_structured_output(OptionsPayload)\n",
        "    prompt = (\n",
        "        \"Generate exactly 3 distinct approaches for a developer-focused blog on:\\n\"\n",
        "        f\"{state['topic']}\\n\\nFor each option, provide: title, audience, angle, \"\n",
        "        \"a 5-bullet outline, and a concise rationale.\"\n",
        "    )\n",
        "    payload: OptionsPayload = proposer.invoke(prompt)\n",
        "    state[\"options_json\"] = payload.model_dump_json()\n",
        "    state[\"messages\"].append(AIMessage(content=state[\"options_json\"]))\n",
        "    return state\n",
        "\n",
        "def reflect_and_select(state: BlogState) -> BlogState:\n",
        "    \"\"\"Judge (stronger): critique options and select best one.\"\"\"\n",
        "    chooser = judge_llm.with_structured_output(ChoicePayload)\n",
        "    eval_prompt = (\n",
        "        \"Evaluate the 3 approaches for clarity, originality, developer relevance, \"\n",
        "        \"and feasibility under time constraints. Pick ONE by index 0..2 and justify.\\n\\n\"\n",
        "        f\"Options JSON:\\n{state['options_json']}\"\n",
        "    )\n",
        "    choice: ChoicePayload = chooser.invoke(eval_prompt)\n",
        "    # Defensive clamp\n",
        "    opts = json.loads(state[\"options_json\"])[\"options\"]\n",
        "    idx = max(0, min(choice.choice_index, len(opts)-1))\n",
        "    choice.choice_index = idx\n",
        "    state[\"choice_json\"] = choice.model_dump_json()\n",
        "    state[\"messages\"].append(AIMessage(content=state[\"choice_json\"]))\n",
        "    return state\n",
        "\n",
        "def research_with_tools(state: BlogState) -> BlogState:\n",
        "    \"\"\"Researcher (tool-using): propose queries, call search tool(s), synthesize sources JSON.\"\"\"\n",
        "    # 1) Ask for tight queries (structured)\n",
        "    q_llm = research_llm.with_structured_output(Queries)\n",
        "    q_payload: Queries = q_llm.invoke(\n",
        "        \"Propose 3–5 precise web queries (docs/repos/papers/blog posts) to support the chosen approach.\\n\"\n",
        "        f\"Topic: {state['topic']}\\nOptions: {state['options_json']}\\nChoice: {state['choice_json']}\"\n",
        "    )\n",
        "\n",
        "    # 2) Call tool(s) explicitly (deterministic, observable)\n",
        "    findings = []\n",
        "    for q in q_payload.queries:\n",
        "        res = internet_search.invoke({\"query\": q})\n",
        "        try:\n",
        "            findings.append({\"query\": q, \"results\": json.loads(res)})\n",
        "        except Exception:\n",
        "            findings.append({\"query\": q, \"results\": []})\n",
        "\n",
        "    # 3) Synthesize to a clean JSON list of sources\n",
        "    synth_prompt = (\n",
        "        \"From these search findings, produce JSON list 'sources': \"\n",
        "        \"[{query, top_findings: [3-5 bullets], suggested_citations: [{title, url}]}]. \"\n",
        "        \"Return JSON only.\"\n",
        "    )\n",
        "    synth = research_llm.invoke([\n",
        "        (\"system\", \"Return JSON only.\"),\n",
        "        HumanMessage(content=json.dumps(findings, ensure_ascii=False))\n",
        "    ])\n",
        "    state[\"sources_json\"] = synth.content\n",
        "    state[\"messages\"].append(AIMessage(content=state[\"sources_json\"]))\n",
        "    return state\n",
        "\n",
        "def draft_outline_and_intro(state: BlogState) -> BlogState:\n",
        "    \"\"\"Writer (small): outline + intro from chosen plan and sources.\"\"\"\n",
        "    system = (\n",
        "        \"You are a senior technical writer. Using the chosen approach and sources, produce:\\n\"\n",
        "        \"1) Final title\\n2) Audience sentence\\n3) 5-section outline (2–3 bullets each)\\n\"\n",
        "        \"4) 150–200 word intro. Be clear, concrete, and avoid hype.\"\n",
        "    )\n",
        "    ai = writer_llm.invoke([\n",
        "        (\"system\", system),\n",
        "        HumanMessage(content=f\"Choice:\\n{state['choice_json']}\\n\\nSources:\\n{state['sources_json']}\")\n",
        "    ])\n",
        "    state[\"draft\"] = ai.content\n",
        "    state[\"messages\"].append(ai)\n",
        "    return state"
      ],
      "metadata": {
        "id": "FW_ftJzKkClp"
      },
      "execution_count": null,
      "outputs": []
    },
    {
      "cell_type": "markdown",
      "source": [
        "# Graph wiring"
      ],
      "metadata": {
        "id": "JGDGvq9lkOZV"
      }
    },
    {
      "cell_type": "code",
      "source": [
        "graph = StateGraph(BlogState)\n",
        "graph.add_node(\"propose\", propose_options)        # small creative generator\n",
        "graph.add_node(\"reflect\", reflect_and_select)     # stronger judge/reflector\n",
        "graph.add_node(\"research\", research_with_tools)   # tool-using researcher\n",
        "graph.add_node(\"draft\", draft_outline_and_intro)  # small writer\n",
        "\n",
        "graph.add_edge(START, \"propose\")\n",
        "graph.add_edge(\"propose\", \"reflect\")\n",
        "graph.add_edge(\"reflect\", \"research\")\n",
        "graph.add_edge(\"research\", \"draft\")\n",
        "graph.add_edge(\"draft\", END)\n",
        "\n",
        "checkpointer = MemorySaver()\n",
        "app = graph.compile(checkpointer=checkpointer)"
      ],
      "metadata": {
        "id": "wRL_LV2hkkeh"
      },
      "execution_count": null,
      "outputs": []
    },
    {
      "cell_type": "markdown",
      "source": [
        "# Run"
      ],
      "metadata": {
        "id": "g7xf94E6klNe"
      }
    },
    {
      "cell_type": "code",
      "source": [
        "cfg = {\"configurable\": {\"thread_id\": f\"blog-{uuid.uuid4()}\"}, \"recursion_limit\": 40}\n",
        "initial: BlogState = {\n",
        "    \"messages\": [HumanMessage(content=\"Plan a blog post about AI agents for developers.\")],\n",
        "    \"topic\": \"AI Agents for Developers: From LLMs to Tool-Using Systems\",\n",
        "    \"options_json\": None,\n",
        "    \"choice_json\": None,\n",
        "    \"sources_json\": None,\n",
        "    \"draft\": None,\n",
        "}\n",
        "\n",
        "for update in app.stream(initial, config=cfg, stream_mode=\"updates\"):\n",
        "    for node, payload in update.items():\n",
        "        print(f\"\\n[enter {node}] keys: {list(payload.keys())}\")\n",
        "        if \"messages\" in payload and payload[\"messages\"]:\n",
        "            m = payload[\"messages\"][-1]\n",
        "            text = getattr(m, \"content\", \"\")\n",
        "            print((text if isinstance(text, str) else str(text))[:400], \"...\")\n",
        "\n",
        "final = app.get_state(cfg).values\n",
        "print(\"\\n===== FINAL DRAFT =====\\n\")\n",
        "print((final.get(\"draft\") or \"\"))\n"
      ],
      "metadata": {
        "colab": {
          "base_uri": "https://localhost:8080/"
        },
        "id": "ULvctDOe9kql",
        "outputId": "cdd4730a-1d49-477d-f533-8d960770e83f"
      },
      "execution_count": null,
      "outputs": [
        {
          "output_type": "stream",
          "name": "stdout",
          "text": [
            "\n",
            "[enter propose] keys: ['messages', 'topic', 'options_json', 'choice_json', 'sources_json', 'draft']\n",
            "{\"options\":[{\"title\":\"Unlocking AI Agents: A Developer's Guide to LLMs and Beyond\",\"audience\":\"Software Developers and AI Enthusiasts\",\"angle\":\"Practical implementation of AI agents using LLMs and other tools.\",\"outline\":[\"Introduction to AI Agents and Their Importance\",\"Overview of Large Language Models (LLMs) and Their Capabilities\",\"Step-by-Step Guide to Implementing an LLM in Your Project\",\"Ex ...\n",
            "\n",
            "[enter reflect] keys: ['messages', 'topic', 'options_json', 'choice_json', 'sources_json', 'draft']\n",
            "{\"choice_index\":0,\"rationale\":\"**Choice Index: 0**\\n\\n**Title:** Unlocking AI Agents: A Developer's Guide to LLMs and Beyond\\n\\n**Justification:**\\n\\n1. **Clarity:**\\n   - The title and outline clearly communicate the focus on practical implementation, which is essential for developers who are eager to apply AI technologies in real-world projects.\\n   - The step-by-step guide format ensures that r ...\n",
            "\n",
            "[enter research] keys: ['messages', 'topic', 'options_json', 'choice_json', 'sources_json', 'draft']\n",
            "{\n",
            "  \"results\": [\n",
            "    {\n",
            "      \"query\": \"AI agents for developers site:github.com\",\n",
            "      \"results\": [\n",
            "        {\n",
            "          \"title\": \"What are AI agents?\",\n",
            "          \"link\": \"https://github.com/resources/articles/ai/what-are-ai-agents\",\n",
            "          \"snippet\": \"AI agents are autonomous software tools that perform tasks, make decisions, and interact with their environment intelligently and rationally.\",\n",
            " ...\n",
            "\n",
            "[enter draft] keys: ['messages', 'topic', 'options_json', 'choice_json', 'sources_json', 'draft']\n",
            "### Final Title\n",
            "Unlocking AI Agents: A Developer's Guide to LLMs and Beyond\n",
            "\n",
            "### Audience Sentence\n",
            "This guide is intended for software developers and AI enthusiasts looking to integrate AI agents and large language models (LLMs) into their projects effectively.\n",
            "\n",
            "### 5-Section Outline\n",
            "1. **Introduction to AI Agents and LLMs**\n",
            "   - Definition and characteristics of AI agents.\n",
            "   - Overview of large  ...\n",
            "\n",
            "===== FINAL DRAFT =====\n",
            "\n",
            "### Final Title\n",
            "Unlocking AI Agents: A Developer's Guide to LLMs and Beyond\n",
            "\n",
            "### Audience Sentence\n",
            "This guide is intended for software developers and AI enthusiasts looking to integrate AI agents and large language models (LLMs) into their projects effectively.\n",
            "\n",
            "### 5-Section Outline\n",
            "1. **Introduction to AI Agents and LLMs**\n",
            "   - Definition and characteristics of AI agents.\n",
            "   - Overview of large language models and their relevance.\n",
            "   - Importance of AI agents in modern software development.\n",
            "\n",
            "2. **Setting Up Your Development Environment**\n",
            "   - Recommended tools and platforms for AI agent development.\n",
            "   - Installation and configuration steps for essential libraries.\n",
            "   - Preparing sample datasets for initial testing.\n",
            "\n",
            "3. **Building Your First AI Agent**\n",
            "   - Step-by-step guide to creating a simple AI agent.\n",
            "   - Key design principles for effective agent development.\n",
            "   - Incorporating LLMs for enhanced functionality.\n",
            "\n",
            "4. **Integrating AI Agents with Development Workflows**\n",
            "   - Strategies for embedding AI agents into existing projects.\n",
            "   - Best practices for collaboration between human developers and agents.\n",
            "   - Case studies showcasing successful integrations.\n",
            "\n",
            "5. **Future Trends and Considerations**\n",
            "   - Emerging technologies and their potential impact on AI agents.\n",
            "   - Ethical considerations and challenges in AI agent deployment.\n",
            "   - Resources for ongoing learning and development in AI technologies.\n",
            "\n",
            "### Introduction\n",
            "The rapid evolution of artificial intelligence has ushered in a new era for software development, particularly with the rise of AI agents and large language models (LLMs). AI agents are autonomous tools capable of performing tasks and making decisions based on their environment, while LLMs provide sophisticated language processing capabilities. This guide aims to equip software developers and AI enthusiasts with practical insights and step-by-step instructions for integrating these technologies into their projects. We will explore the fundamentals of AI agents, set up development environments, and dive into building and deploying your first AI agent. By combining theoretical knowledge with hands-on practice, this resource serves as a comprehensive roadmap for harnessing the power of AI agents in real-world applications. Whether you are a seasoned developer or just starting, this guide will help you navigate the complexities of AI integration in software development.\n"
          ]
        }
      ]
    },
    {
      "cell_type": "markdown",
      "source": [
        "# Display the graph"
      ],
      "metadata": {
        "id": "ucQYuEfFkfK8"
      }
    },
    {
      "cell_type": "code",
      "source": [
        "\n",
        "from IPython.display import Image, display\n",
        "\n",
        "display(Image(app.get_graph().draw_mermaid_png()))"
      ],
      "metadata": {
        "colab": {
          "base_uri": "https://localhost:8080/",
          "height": 548
        },
        "id": "eU__zie8KuE6",
        "outputId": "3999c2b0-1ac2-421a-f837-292193b22d00"
      },
      "execution_count": null,
      "outputs": [
        {
          "output_type": "display_data",
          "data": {
            "image/png": "[encoded data removed]",
            "text/plain": [
              "<IPython.core.display.Image object>"
            ]
          },
          "metadata": {}
        }
      ]
    },
    {
      "cell_type": "code",
      "source": [],
      "metadata": {
        "id": "2MbNRqLM9cle"
      },
      "execution_count": null,
      "outputs": []
    }
  ]
}