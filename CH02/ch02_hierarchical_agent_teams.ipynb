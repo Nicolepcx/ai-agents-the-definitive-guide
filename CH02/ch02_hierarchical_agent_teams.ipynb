{
  "cells": [
    {
      "cell_type": "markdown",
      "source": [
        "# Open in Colab\n",
        "<a target=\"_blank\" href=\"https://colab.research.google.com/github/Nicolepcx/ai-agents-the-definitive-guide/blob/main/CH02/ch02_hierarchical_agent_teams.ipynb\">\n",
        "  <img src=\"https://colab.research.google.com/assets/colab-badge.svg\" alt=\"Open In Colab\"/>\n",
        "</a>"
      ],
      "metadata": {
        "id": "5uPL_nS_8Ka1"
      },
      "id": "5uPL_nS_8Ka1"
    },
    {
      "cell_type": "markdown",
      "source": [
        "# About this notebook\n",
        "\n",
        "This notebook builds a hierarchical, team based agent system with **LangGraph** and **LangChain** that can research on the web, scrape pages, search patents, run code, and collaborate to write and persist a report to disk. It demonstrates how to compose multiple subgraphs under a top level supervisor while keeping tools, roles, and state explicit.\n",
        "\n",
        "## What it shows\n",
        "\n",
        "* **Two specialized teams** coordinated by supervisors\n",
        "\n",
        "  1. **Research team** with search, scraping, Exa semantic search, and Google Patents\n",
        "  2. **Document writing team** with outline creation, document read and write, editing, and a Python REPL for simple charts\n",
        "* **Top level orchestrator** that routes work between the two teams and aggregates results\n",
        "* **Tooling mix**: Tavily, SerpAPI, Exa, WebBaseLoader scraping, and a Python REPL\n",
        "* **File persistence** in a working directory for outlines and the final report\n",
        "* **Streaming runs** that print step by step updates and **Mermaid PNG** graph previews for each team and the supervisor graph\n",
        "\n",
        "## What you will run\n",
        "\n",
        "1. . Define research tools\n",
        "\n",
        "   * `tavily_tool` for search results\n",
        "   * `scrape_webpages` to pull and concatenate page contents\n",
        "   * `patent_search` via SerpAPI Google Patents\n",
        "   * `exa_search_tool` for neural search with highlight snippets\n",
        "2. Define document tools\n",
        "\n",
        "   * `create_outline`, `read_document`, `write_document`, `edit_document` that operate in a sandboxed working directory\n",
        "   * `python_repl_tool` for quick calculations or charts printed to stdout\n",
        "3. Build **worker nodes** using `create_react_agent` and **LLM supervisors** with structured routing that pick the next worker or finish.\n",
        "4. Compile three graphs\n",
        "\n",
        "   * `research_graph` for web research and patents\n",
        "   * `paper_writing_graph` for outlining and writing with optional chart generation\n",
        "   * `super_graph` that orchestrates both teams end to end\n",
        "5. Execute an example\n",
        "\n",
        "   * Ask about AI agents and patents with the research team\n",
        "   * Write a poem to disk with the writing team\n",
        "   * Run a full task that produces an 800 word semiconductor whitepaper, includes patent links and sources, and saves it to `semiconductor_whitepaper.txt`\n",
        "\n",
        "## How it works\n",
        "\n",
        "* **Supervisors**: Small LLM routers with structured output select the next worker from a fixed set or return FINISH.\n",
        "* **Workers**: ReAct style agents bound to a specific tool set and prompt. Each worker returns a single concise message which is fed back to the supervisor.\n",
        "* **State**: Uses `MessagesState` plus a simple `next` field. Messages flow across teams so the top level supervisor can coordinate.\n",
        "* **Routing**: Implemented through `Command(goto=..., update=...)` to move between nodes while appending results to state.\n",
        "* **Persistence**: File tools read and write under `WORKING_DIRECTORY`. The final task writes a complete report to disk.\n",
        "\n",
        "## Why this pattern\n",
        "\n",
        "* Clear separation of concerns makes behaviors predictable and testable.\n",
        "* Supervisors keep control flow explicit and auditable.\n",
        "* Tool use is bounded per worker which reduces prompt sprawl and improves reliability.\n",
        "* The top level graph composes teams without coupling their internal details.\n",
        "\n",
        "## Extend and adapt\n",
        "\n",
        "* Add a citation validator between research and writing.\n",
        "* Swap or add search providers.\n",
        "* Replace Python REPL with a sandboxed executor.\n",
        "* Persist checkpoints and traces with LangSmith for debugging and evaluation.\n",
        "\n",
        "## Requirements and notes\n",
        "\n",
        "* Required keys: `OPENAI_API_KEY`, `TAVILY_API_KEY`, `SERPAPI_API_KEY`, `EXA_API_KEY`.\n",
        "* Web results and patent listings change over time. Outputs will vary run to run.\n",
        "* File system tools write to the working directory. Use a sandbox for untrusted content or use it within a Docker setup.\n",
        "* Streaming prints intermediate updates that help you trace decisions and tool calls.\n"
      ],
      "metadata": {
        "id": "Vcf3Y5Q43OHt"
      },
      "id": "Vcf3Y5Q43OHt"
    },
    {
      "cell_type": "markdown",
      "source": [
        "# Dependencies"
      ],
      "metadata": {
        "id": "7I3ty3fv0qU0"
      },
      "id": "7I3ty3fv0qU0"
    },
    {
      "cell_type": "code",
      "execution_count": 4,
      "id": "0d30b6f7-3bec-4d9f-af50-43dfdc81ae6c",
      "metadata": {
        "ExecuteTime": {
          "end_time": "2024-05-15T08:19:42.364369Z",
          "start_time": "2024-05-15T08:19:42.359273Z"
        },
        "id": "0d30b6f7-3bec-4d9f-af50-43dfdc81ae6c"
      },
      "outputs": [],
      "source": [
        "!pip install -q \\\n",
        "    langchain==0.3.27 \\\n",
        "    langgraph==0.6.7 \\\n",
        "    langchain-openai==0.3.33 \\\n",
        "    langchain_experimental==0.3.4 \\\n",
        "    langchain_community==0.3.30 \\\n",
        "    langchain-tavily==0.2.11 \\\n",
        "    exa_py==1.15.6 \\\n",
        "    python-dotenv==1.1.1\n"
      ]
    },
    {
      "cell_type": "markdown",
      "source": [
        "# API Key Setup"
      ],
      "metadata": {
        "id": "YjaPEd2n0r_D"
      },
      "id": "YjaPEd2n0r_D"
    },
    {
      "cell_type": "code",
      "source": [
        "# Option 1 (preferred): create a `.env` file in your project folder with:\n",
        "# OPENAI_API_KEY=your_openai_key_here\n",
        "# TAVILY_API_KEY=your_tavily_key_here\n",
        "# SERPAPI_API_KEY=your_serpapi_key_here\n",
        "# EXA_API_KEY=your_exa_key_here\n",
        "#\n",
        "# Option 2: set directly in the notebook with magic:\n",
        "# %env OPENAI_API_KEY=your_openai_key_here\n",
        "# %env TAVILY_API_KEY=your_tavily_key_here\n",
        "# %env SERPAPI_API_KEY=your_serpapi_key_here\n",
        "# %env EXA_API_KEY=your_exa_key_here\n",
        "\n",
        "from dotenv import load_dotenv\n",
        "import os\n",
        "\n",
        "# Load from .env if available\n",
        "load_dotenv()\n",
        "\n",
        "OPENAI_API_KEY = os.getenv(\"OPENAI_API_KEY\")\n",
        "TAVILY_API_KEY = os.getenv(\"TAVILY_API_KEY\")\n",
        "SERPAPI_API_KEY = os.getenv(\"SERPAPI_API_KEY\")\n",
        "EXA_API_KEY = os.getenv(\"EXA_API_KEY\")\n",
        "\n",
        "# Fallback: ask if still missing\n",
        "if not OPENAI_API_KEY:\n",
        "    print(\"⚠️ OPENAI_API_KEY not found. You can set it with `%env` in the notebook or enter it below.\")\n",
        "    OPENAI_API_KEY = input(\"Enter your OPENAI_API_KEY: \").strip()\n",
        "\n",
        "if not TAVILY_API_KEY:\n",
        "    print(\"⚠️ TAVILY_API_KEY not found. You can set it with `%env` in the notebook or enter it below.\")\n",
        "    TAVILY_API_KEY = input(\"Enter your TAVILY_API_KEY: \").strip()\n",
        "\n",
        "if not SERPAPI_API_KEY:\n",
        "    print(\"⚠️ SERPAPI_API_KEY not found. You can set it with `%env` in the notebook or enter it below.\")\n",
        "    SERPAPI_API_KEY = input(\"Enter your SERPAPI_API_KEY: \").strip()\n",
        "\n",
        "if not EXA_API_KEY:\n",
        "    print(\"⚠️ EXA_API_KEY not found. You can set it with `%env` in the notebook or enter it below.\")\n",
        "    EXA_API_KEY = input(\"Enter your EXA_API_KEY: \").strip()\n",
        "\n",
        "print(\"✅ API keys loaded successfully!\")\n"
      ],
      "metadata": {
        "id": "7L1Gp9opxkjm"
      },
      "id": "7L1Gp9opxkjm",
      "execution_count": null,
      "outputs": []
    },
    {
      "cell_type": "markdown",
      "metadata": {
        "id": "J6VrKUlVfkCH"
      },
      "source": [
        "<div class=\"admonition tip\">\n",
        "    <p class=\"admonition-title\">Set up <a href=\"https://smith.langchain.com\">LangSmith</a> for LangGraph development</p>\n",
        "    <p style=\"padding-top: 5px;\">\n",
        "        Sign up for LangSmith to quickly spot issues and improve the performance of your LangGraph projects. LangSmith lets you use trace data to debug, test, and monitor your LLM apps built with LangGraph — read more about how to get started <a href=\"https://docs.smith.langchain.com\">here</a>.\n",
        "    </p>\n",
        "</div>"
      ],
      "id": "J6VrKUlVfkCH"
    },
    {
      "cell_type": "markdown",
      "source": [
        "# Imports"
      ],
      "metadata": {
        "id": "9x5eWCOs06AK"
      },
      "id": "9x5eWCOs06AK"
    },
    {
      "cell_type": "code",
      "execution_count": null,
      "metadata": {
        "ExecuteTime": {
          "end_time": "2024-05-15T08:19:44.477064Z",
          "start_time": "2024-05-15T08:19:42.397083Z"
        },
        "id": "4024eb89-843d-4cc3-ab3f-e1eb4d031179"
      },
      "outputs": [],
      "source": [
        "from __future__ import annotations\n",
        "\n",
        "# Stdlib\n",
        "import json\n",
        "from pathlib import Path\n",
        "from tempfile import TemporaryDirectory\n",
        "from typing import Any, Annotated, Dict, List, Literal, Optional, Sequence\n",
        "from typing_extensions import TypedDict\n",
        "\n",
        "# Third party\n",
        "from exa_py import Exa\n",
        "from langchain_openai import ChatOpenAI\n",
        "\n",
        "# LangChain\n",
        "from langchain_core.language_models.chat_models import BaseChatModel\n",
        "from langchain_core.messages import BaseMessage, HumanMessage, trim_messages\n",
        "from langchain_core.tools import tool\n",
        "\n",
        "from langchain_community.document_loaders import WebBaseLoader\n",
        "from langchain_community.tools.tavily_search import TavilySearchResults\n",
        "from langchain_community.utilities import SerpAPIWrapper\n",
        "\n",
        "from langchain_experimental.utilities import PythonREPL\n",
        "\n",
        "from langchain_tavily import TavilySearch\n",
        "\n",
        "# LangGraph\n",
        "from langgraph.graph import END, START, MessagesState, StateGraph\n",
        "from langgraph.prebuilt import create_react_agent\n",
        "from langgraph.types import Command\n"
      ],
      "id": "4024eb89-843d-4cc3-ab3f-e1eb4d031179"
    },
    {
      "cell_type": "markdown",
      "metadata": {
        "id": "354568e2-aef0-4af9-8a79-e64d3eea752f"
      },
      "source": [
        "# Create Tools\n",
        "\n",
        "Each team will be composed of one or more agents each with one or more tools. Below, define all the tools to be used by your different teams.\n",
        "\n",
        "We'll start with the research team.\n",
        "\n",
        "**ResearchTeam tools**\n",
        "\n",
        "The research team can use a search engine and url scraper to find information on the web. Feel free to add additional functionality below to boost the team performance!"
      ],
      "id": "354568e2-aef0-4af9-8a79-e64d3eea752f"
    },
    {
      "cell_type": "markdown",
      "metadata": {
        "id": "1c427982-fadf-4721-a77e-2465df9fc6bc"
      },
      "source": [
        "**Document writing team tools**\n",
        "\n",
        "Next up, we will give some tools for the doc writing team to use.\n",
        "We define some bare-bones file-access tools below.\n",
        "\n",
        "Note that this gives the agents access to your file-system, which can be unsafe. We also haven't optimized the tool descriptions for performance."
      ],
      "id": "1c427982-fadf-4721-a77e-2465df9fc6bc"
    },
    {
      "cell_type": "code",
      "execution_count": null,
      "metadata": {
        "ExecuteTime": {
          "end_time": "2024-05-15T08:19:44.538421Z",
          "start_time": "2024-05-15T08:19:44.479132Z"
        },
        "id": "f20a18ca-2709-4c12-84f3-88678591a9fa",
        "colab": {
          "base_uri": "https://localhost:8080/"
        },
        "outputId": "bb61dd22-89ea-4791-f4d5-5b55cd92fb8d"
      },
      "outputs": [
        {
          "output_type": "stream",
          "name": "stdout",
          "text": [
            "Working directory already exists: /content/working_directory\n"
          ]
        }
      ],
      "source": [
        "# Define a persistent working directory\n",
        "WORKING_DIRECTORY = Path(\"/content/working_directory\")\n",
        "\n",
        "# Ensure the working directory exists\n",
        "if not WORKING_DIRECTORY.exists():\n",
        "    WORKING_DIRECTORY.mkdir(parents=True)\n",
        "    print(f\"Created working directory: {WORKING_DIRECTORY}\")\n",
        "else:\n",
        "    print(f\"Working directory already exists: {WORKING_DIRECTORY}\")\n",
        "\n",
        "\n",
        "@tool\n",
        "def scrape_webpages(urls: List[str]) -> str:\n",
        "    \"\"\"Use requests and bs4 to scrape the provided web pages for detailed information.\"\"\"\n",
        "    loader = WebBaseLoader(urls)\n",
        "    docs = loader.load()\n",
        "    return \"\\n\\n\".join(\n",
        "        [\n",
        "            f'<Document name=\"{doc.metadata.get(\"title\", \"\")}\">\\n{doc.page_content}\\n</Document>'\n",
        "            for doc in docs\n",
        "        ]\n",
        "    )\n",
        "\n",
        "@tool(\"patent_search\")\n",
        "def patent_search(query: str) -> str:\n",
        "    \"\"\"Search with Google SERP API by a query to fine news about patents related to the query.\"\"\"\n",
        "    params = {\n",
        "        \"engine\": \"google_patents\",\n",
        "        \"gl\": \"us\",\n",
        "        \"hl\": \"en\",\n",
        "        }\n",
        "    patent_search = SerpAPIWrapper(params=params, serpapi_api_key=serp_api_key)\n",
        "    return patent_search.run(query)\n",
        "\n",
        "\n",
        "@tool(\"exa_search_tool\")\n",
        "def exa_search_tool(question: str) -> str:\n",
        "    \"\"\"Tool using Exa's Python SDK to run semantic search and return result highlights.\"\"\"\n",
        "    exa = Exa(exa_api_key)\n",
        "\n",
        "    response = exa.search_and_contents(\n",
        "        question,\n",
        "        type=\"neural\",\n",
        "        use_autoprompt=True,\n",
        "        num_results=3,\n",
        "        highlights=True\n",
        "    )\n",
        "\n",
        "    results = []\n",
        "    for idx, eachResult in enumerate(response.results):\n",
        "        result = {\n",
        "            \"Title\": eachResult.title,\n",
        "            \"URL\": eachResult.url,\n",
        "            \"Highlight\": \"\".join(eachResult.highlights)\n",
        "        }\n",
        "        results.append(result)\n",
        "\n",
        "    return json.dumps(results)\n",
        "\n",
        "# Load Tavily Search Wrapper from LangChain\n",
        "tavily_tool = TavilySearchResults(\n",
        "    max_results= 5,\n",
        "    search_depth = \"advanced\"\n",
        "    )\n",
        "\n",
        "@tool\n",
        "def create_outline(\n",
        "    points: Annotated[List[str], \"List of main points or sections.\"],\n",
        "    file_name: Annotated[str, \"File path to save the outline.\"],\n",
        ") -> Annotated[str, \"Path of the saved outline file.\"]:\n",
        "    \"\"\"Create and save an outline.\"\"\"\n",
        "    with (WORKING_DIRECTORY / file_name).open(\"w\") as file:\n",
        "        for i, point in enumerate(points):\n",
        "            file.write(f\"{i + 1}. {point}\\n\")\n",
        "    return f\"Outline saved to {file_name}\"\n",
        "\n",
        "\n",
        "@tool\n",
        "def read_document(\n",
        "    file_name: Annotated[str, \"File path to read the document from.\"],\n",
        "    start: Annotated[Optional[int], \"The start line. Default is 0\"] = None,\n",
        "    end: Annotated[Optional[int], \"The end line. Default is None\"] = None,\n",
        ") -> str:\n",
        "    \"\"\"Read the specified document.\"\"\"\n",
        "    with (WORKING_DIRECTORY / file_name).open(\"r\") as file:\n",
        "        lines = file.readlines()\n",
        "    if start is None:\n",
        "        start = 0\n",
        "    return \"\\n\".join(lines[start:end])\n",
        "\n",
        "\n",
        "@tool\n",
        "def write_document(\n",
        "    content: Annotated[str, \"Text content to be written into the document.\"],\n",
        "    file_name: Annotated[str, \"File path to save the document.\"],\n",
        ") -> Annotated[str, \"Path of the saved document file.\"]:\n",
        "    \"\"\"Create and save a text document.\"\"\"\n",
        "    with (WORKING_DIRECTORY / file_name).open(\"w\") as file:\n",
        "        file.write(content)\n",
        "    return f\"Document saved to {file_name}\"\n",
        "\n",
        "\n",
        "@tool\n",
        "def edit_document(\n",
        "    file_name: Annotated[str, \"Path of the document to be edited.\"],\n",
        "    inserts: Annotated[\n",
        "        Dict[int, str],\n",
        "        \"Dictionary where key is the line number (1-indexed) and value is the text to be inserted at that line.\",\n",
        "    ],\n",
        ") -> Annotated[str, \"Path of the edited document file.\"]:\n",
        "    \"\"\"Edit a document by inserting text at specific line numbers.\"\"\"\n",
        "\n",
        "    with (WORKING_DIRECTORY / file_name).open(\"r\") as file:\n",
        "        lines = file.readlines()\n",
        "\n",
        "    sorted_inserts = sorted(inserts.items())\n",
        "\n",
        "    for line_number, text in sorted_inserts:\n",
        "        if 1 <= line_number <= len(lines) + 1:\n",
        "            lines.insert(line_number - 1, text + \"\\n\")\n",
        "        else:\n",
        "            return f\"Error: Line number {line_number} is out of range.\"\n",
        "\n",
        "    with (WORKING_DIRECTORY / file_name).open(\"w\") as file:\n",
        "        file.writelines(lines)\n",
        "\n",
        "    return f\"Document edited and saved to {file_name}\"\n",
        "\n",
        "\n",
        "# Warning: This executes code locally, which can be unsafe when not sandboxed\n",
        "\n",
        "repl = PythonREPL()\n",
        "\n",
        "\n",
        "@tool\n",
        "def python_repl_tool(\n",
        "    code: Annotated[str, \"The python code to execute to generate your chart.\"],\n",
        "):\n",
        "    \"\"\"Use this to execute python code. If you want to see the output of a value,\n",
        "    you should print it out with `print(...)`. This is visible to the user.\"\"\"\n",
        "    try:\n",
        "        result = repl.run(code)\n",
        "    except BaseException as e:\n",
        "        return f\"Failed to execute. Error: {repr(e)}\"\n",
        "    return f\"Successfully executed:\\n```python\\n{code}\\n```\\nStdout: {result}\""
      ],
      "id": "f20a18ca-2709-4c12-84f3-88678591a9fa"
    },
    {
      "cell_type": "markdown",
      "metadata": {
        "id": "504ee1c6-2b6a-439d-9046-df54e1e15698"
      },
      "source": [
        "# Helper Utilities\n",
        "\n",
        "We are going to create a few utility functions to make it more concise when we want to:\n",
        "\n",
        "1. Create a worker agent.\n",
        "2. Create a supervisor for the sub-graph.\n",
        "\n",
        "These will simplify the graph compositional code at the end for us so it's easier to see what's going on."
      ],
      "id": "504ee1c6-2b6a-439d-9046-df54e1e15698"
    },
    {
      "cell_type": "code",
      "execution_count": null,
      "metadata": {
        "ExecuteTime": {
          "end_time": "2024-05-15T08:19:46.559082Z",
          "start_time": "2024-05-15T08:19:44.541330Z"
        },
        "id": "e09fb60f-1aac-455b-b67d-8d2e4ccfd747"
      },
      "outputs": [],
      "source": [
        "class State(MessagesState):\n",
        "    next: str\n",
        "\n",
        "\n",
        "def make_supervisor_node(llm: BaseChatModel, members: list[str]) -> str:\n",
        "    options = [\"FINISH\"] + members\n",
        "    system_prompt = (\n",
        "        \"You are a supervisor tasked with managing a conversation between the\"\n",
        "        f\" following workers: {members}. Given the following user request,\"\n",
        "        \" respond with the worker to act next. Each worker will perform a\"\n",
        "        \" task and respond with their results and status. When finished,\"\n",
        "        \" respond with FINISH.\"\n",
        "    )\n",
        "\n",
        "    class Router(TypedDict):\n",
        "        \"\"\"Worker to route to next. If no workers needed, route to FINISH.\"\"\"\n",
        "\n",
        "        next: Literal[*options]\n",
        "\n",
        "    def supervisor_node(state: State) -> Command[Literal[*members, \"__end__\"]]:\n",
        "        \"\"\"An LLM-based router.\"\"\"\n",
        "        messages = [\n",
        "            {\"role\": \"system\", \"content\": system_prompt},\n",
        "        ] + state[\"messages\"]\n",
        "        response = llm.with_structured_output(Router).invoke(messages)\n",
        "        goto = response[\"next\"]\n",
        "        if goto == \"FINISH\":\n",
        "            goto = END\n",
        "\n",
        "        return Command(goto=goto, update={\"next\": goto})\n",
        "\n",
        "    return supervisor_node"
      ],
      "id": "e09fb60f-1aac-455b-b67d-8d2e4ccfd747"
    },
    {
      "cell_type": "code",
      "source": [
        "\n",
        "def make_react_worker_node(\n",
        "    *,\n",
        "    llm: ChatOpenAI,\n",
        "    name: str,\n",
        "    tools: list,\n",
        "    prompt: str | None = None,\n",
        "    goto: str = \"supervisor\",\n",
        "):\n",
        "    agent = create_react_agent(llm, tools=tools, prompt=prompt)\n",
        "\n",
        "    def node(state: State) -> Command[Literal[\"supervisor\"]]:\n",
        "        result: Dict[str, Any] = agent.invoke(state)\n",
        "        msgs: Sequence[BaseMessage] = result.get(\"messages\", [])\n",
        "        content = getattr(msgs[-1], \"content\", \"\") if msgs else \"\"\n",
        "        return Command(\n",
        "            update={\"messages\": [HumanMessage(content=content, name=name)]},\n",
        "            goto=goto,\n",
        "        )\n",
        "\n",
        "    return node\n"
      ],
      "metadata": {
        "id": "medk4BZCmRci"
      },
      "id": "medk4BZCmRci",
      "execution_count": null,
      "outputs": []
    },
    {
      "cell_type": "markdown",
      "metadata": {
        "id": "00282b1f-bb4d-4ee7-9bae-e8e6f586f12e"
      },
      "source": [
        "## Define Agent Teams\n",
        "\n",
        "Now we can get to define our hierarchical teams. \"Choose your player!\"\n",
        "\n",
        "### Research Team\n",
        "\n",
        "The research team will have a search agent and a web scraping \"research_agent\" as the two worker nodes. Let's create those, as well as the team supervisor."
      ],
      "id": "00282b1f-bb4d-4ee7-9bae-e8e6f586f12e"
    },
    {
      "cell_type": "markdown",
      "metadata": {
        "id": "b01c6ee8-a461-4081-8a97-a3a06ec0f994"
      },
      "source": [
        "Now that we've created the necessary components, defining their interactions is easy. Add the nodes to the team graph, and define the edges, which determine the transition criteria."
      ],
      "id": "b01c6ee8-a461-4081-8a97-a3a06ec0f994"
    },
    {
      "cell_type": "markdown",
      "source": [
        "## LLM Setup"
      ],
      "metadata": {
        "id": "-pcKEXHd1hM8"
      },
      "id": "-pcKEXHd1hM8"
    },
    {
      "cell_type": "code",
      "source": [
        "llm = ChatOpenAI(model=\"gpt-4o\", temperature=0)"
      ],
      "metadata": {
        "id": "7mD4tH6gcxhP"
      },
      "id": "7mD4tH6gcxhP",
      "execution_count": null,
      "outputs": []
    },
    {
      "cell_type": "code",
      "source": [
        "# Prompts help to keep roles sharp\n",
        "SEARCH_PROMPT = \"\"\"Role: Web researcher. Use the search tool and return a\n",
        "concise research note with sources. No follow-up questions.\"\"\"\n",
        "\n",
        "SCRAPER_PROMPT = \"\"\"Role: Web scraper. Use the scraping tool to fetch details\n",
        "from given URLs and summarize key findings. No follow-up questions.\"\"\"\n",
        "\n",
        "EXA_PROMPT = \"\"\"Role: Research assistant. You can search for all recent info\n",
        "on Exa Search. Your response should clearly articulate the key points you found.\"\"\"\n",
        "\n",
        "PATENT_PROMPT = \"\"\"Role: Market researcher with 20 years of experience.\n",
        "You are very knowledgeable in patent research and in finding up-to-date info\n",
        "about patents using the Google Patents API.\"\"\"\n",
        "\n",
        "# Add workers to specs list\n",
        "specs = [\n",
        "    dict(\n",
        "        name=\"search\",\n",
        "        tools=[tavily_tool],\n",
        "        prompt=SEARCH_PROMPT,\n",
        "    ),\n",
        "    dict(\n",
        "        name=\"web_scraper\",\n",
        "        tools=[scrape_webpages],\n",
        "        prompt=SCRAPER_PROMPT,\n",
        "    ),\n",
        "    dict(\n",
        "        name=\"exa_search\",\n",
        "        tools=[exa_search_tool],\n",
        "        prompt=EXA_PROMPT,\n",
        "    ),\n",
        "    dict(\n",
        "        name=\"patent_research\",\n",
        "        tools=[patent_search],\n",
        "        prompt=PATENT_PROMPT,\n",
        "    ),\n",
        "]\n",
        "\n",
        "nodes = {s[\"name\"]: make_react_worker_node(llm=llm, **s) for s in specs}\n",
        "\n",
        "search_node = nodes[\"search\"]\n",
        "web_scraper_node = nodes[\"web_scraper\"]\n",
        "exa_search_node = nodes[\"exa_search\"]\n",
        "patent_research_node = nodes[\"patent_research\"]\n",
        "\n",
        "# Supervisor that can coordinate all four\n",
        "research_supervisor_node = make_supervisor_node(\n",
        "    llm, [\"search\", \"web_scraper\", \"exa_search\", \"patent_research\"]\n",
        ")\n"
      ],
      "metadata": {
        "id": "tpHYWLKibEcK"
      },
      "id": "tpHYWLKibEcK",
      "execution_count": null,
      "outputs": []
    },
    {
      "cell_type": "code",
      "execution_count": null,
      "metadata": {
        "ExecuteTime": {
          "end_time": "2024-05-15T08:19:48.825649Z",
          "start_time": "2024-05-15T08:19:48.811753Z"
        },
        "id": "1a7a1260-d9f6-4011-b2b1-13fab5126997"
      },
      "outputs": [],
      "source": [
        "research_builder = StateGraph(State)\n",
        "\n",
        "# register nodes\n",
        "research_builder.add_node(\"supervisor\", research_supervisor_node)\n",
        "research_builder.add_node(\"search\", search_node)\n",
        "research_builder.add_node(\"web_scraper\", web_scraper_node)\n",
        "research_builder.add_node(\"exa_search\", exa_search_node)\n",
        "research_builder.add_node(\"patent_research\", patent_research_node)\n",
        "\n",
        "# edges\n",
        "research_builder.add_edge(START, \"supervisor\")\n",
        "research_builder.add_edge(\"search\", \"supervisor\")\n",
        "research_builder.add_edge(\"web_scraper\", \"supervisor\")\n",
        "research_builder.add_edge(\"exa_search\", \"supervisor\")\n",
        "research_builder.add_edge(\"patent_research\", \"supervisor\")\n",
        "\n",
        "research_graph = research_builder.compile()"
      ],
      "id": "1a7a1260-d9f6-4011-b2b1-13fab5126997"
    },
    {
      "cell_type": "code",
      "execution_count": null,
      "metadata": {
        "ExecuteTime": {
          "end_time": "2024-05-15T08:19:51.936523Z",
          "start_time": "2024-05-15T08:19:48.827798Z"
        },
        "colab": {
          "base_uri": "https://localhost:8080/",
          "height": 266
        },
        "id": "110f59bed6134685",
        "outputId": "d2409e18-8083-49ab-d012-9bd203fc4901"
      },
      "outputs": [
        {
          "output_type": "display_data",
          "data": {
            "image/png": "[encoded data removed]",
            "text/plain": [
              "<IPython.core.display.Image object>"
            ]
          },
          "metadata": {}
        }
      ],
      "source": [
        "from IPython.display import Image, display\n",
        "\n",
        "display(Image(research_graph.get_graph().draw_mermaid_png()))"
      ],
      "id": "110f59bed6134685"
    },
    {
      "cell_type": "markdown",
      "metadata": {
        "id": "63ee8f2c-fbde-427b-ba54-ae0c7ce5fbfb"
      },
      "source": [
        "We can give this team work directly. Try it out below."
      ],
      "id": "63ee8f2c-fbde-427b-ba54-ae0c7ce5fbfb"
    },
    {
      "cell_type": "code",
      "execution_count": null,
      "metadata": {
        "ExecuteTime": {
          "end_time": "2024-05-15T08:19:51.952470Z",
          "start_time": "2024-05-15T08:19:51.937879Z"
        },
        "colab": {
          "base_uri": "https://localhost:8080/"
        },
        "id": "912b0604-a178-4246-a36f-2dedae606680",
        "outputId": "e0db96f2-1e13-43f8-bc98-b8b9665fa48c"
      },
      "outputs": [
        {
          "output_type": "stream",
          "name": "stdout",
          "text": [
            "{'supervisor': {'next': 'search'}}\n",
            "---\n",
            "{'search': {'messages': [HumanMessage(content='### What are AI Agents?\\n\\nAI agents are software programs designed to interact with their environment, collect data, and perform tasks autonomously to achieve specific goals. They can process multimodal information such as text, voice, video, and audio, and are capable of conversing, reasoning, learning, and making decisions. AI agents are used in various applications, including robotics, gaming, and intelligent systems, where they enhance decision-making and adaptability through techniques like machine learning. They can be integrated into platforms like Google Cloud, AWS, and Microsoft 365 to perform tasks such as customer service, data analysis, and personalized user interactions [Google Cloud](https://cloud.google.com/discover/what-are-ai-agents), [IBM](https://www.ibm.com/think/topics/ai-agents), [AWS](https://aws.amazon.com/what-is/ai-agents/).\\n\\n### Patents on LLM Agents\\n\\nThere are several patents related to large language model (LLM) agents. For instance, Broadridge Financial Solutions has been awarded a U.S. patent for its methods of orchestrating machine learning agents using LLMs. This patented technology is utilized in their BondGPT application, which integrates proprietary data, analytical models, and third-party datasets to enhance efficiency and provide critical pre-trade data and models. The rise of generative AI patents, including those for LLMs, highlights innovations in neural network structures, transfer learning, and memory-efficient models. Companies are encouraged to file patents to protect unique AI technologies, especially in fields like threat detection and creative tools [PatentPC](https://patentpc.com/blog/the-rise-of-generative-ai-patents-stats-on-llm-ai-model-innovations), [Broadridge](https://www.broadridge.com/press-release/2025/broadridge-announces-new-patent-on-large-language-model-orchestration-of-machine).', additional_kwargs={}, response_metadata={}, name='search', id='a25cba31-e8f5-4108-9851-c73e181efbc7')]}}\n",
            "---\n",
            "{'supervisor': {'next': 'patent_research'}}\n",
            "---\n",
            "{'patent_research': {'messages': [HumanMessage(content='AI agents are software programs designed to interact with their environment, collect data, and perform tasks autonomously to achieve specific goals. They are capable of processing multimodal information such as text, voice, video, and audio, and can converse, reason, learn, and make decisions. AI agents are used in various applications, including robotics, gaming, and intelligent systems, enhancing decision-making and adaptability through techniques like machine learning.\\n\\nRegarding patents on LLM (Large Language Model) agents, there are several patents related to this technology. For example, Broadridge Financial Solutions has been awarded a U.S. patent for methods of orchestrating machine learning agents using LLMs. This technology is used in their BondGPT application, which integrates proprietary data, analytical models, and third-party datasets to enhance efficiency and provide critical pre-trade data and models. The rise of generative AI patents, including those for LLMs, highlights innovations in neural network structures, transfer learning, and memory-efficient models.\\n\\nUnfortunately, I encountered an issue accessing the Google Patents API to provide more detailed and up-to-date information on patents related to AI and LLM agents. However, you can explore these topics further using patent databases or platforms that provide access to patent information.', additional_kwargs={}, response_metadata={}, name='patent_research', id='c6c5e2f1-5cf6-4c54-99bd-3f3c418907eb')]}}\n",
            "---\n",
            "{'supervisor': {'next': '__end__'}}\n",
            "---\n"
          ]
        }
      ],
      "source": [
        "for s in research_graph.stream(\n",
        "    {\"messages\": [(\"user\", \"What are AI agents? Are there any patents out there about LLM agents?\")]},\n",
        "    {\"recursion_limit\": 100},\n",
        "):\n",
        "    print(s)\n",
        "    print(\"---\")"
      ],
      "id": "912b0604-a178-4246-a36f-2dedae606680"
    },
    {
      "cell_type": "markdown",
      "metadata": {
        "id": "749b99ab-f6f0-4c5d-a90b-10102465d186"
      },
      "source": [
        "### Document Writing Team\n",
        "\n",
        "Create the document writing team below using a similar approach. This time, we will give each agent access to different file-writing tools.\n",
        "\n",
        "Note that we are giving file-system access to our agent here, which is not safe in all cases."
      ],
      "id": "749b99ab-f6f0-4c5d-a90b-10102465d186"
    },
    {
      "cell_type": "markdown",
      "metadata": {
        "id": "aee2cd9b-29aa-458e-903d-4e49179e5d59"
      },
      "source": [
        "With the objects themselves created, we can form the graph."
      ],
      "id": "aee2cd9b-29aa-458e-903d-4e49179e5d59"
    },
    {
      "cell_type": "code",
      "source": [
        "specs = [\n",
        "    dict(name=\"doc_writer\",\n",
        "         tools=[write_document, edit_document, read_document],\n",
        "         prompt=\"You can read, write and edit documents based on note-taker's outlines. Don't ask follow-up questions.\"),\n",
        "    dict(name=\"note_taker\",\n",
        "         tools=[create_outline, read_document],\n",
        "         prompt=\"You can read documents and create outlines for the document writer. Don't ask follow-up questions.\"),\n",
        "    dict(name=\"chart_generator\",\n",
        "         tools=[read_document, python_repl_tool],\n",
        "         prompt=None),\n",
        "]\n",
        "\n",
        "nodes = {s[\"name\"]: make_react_worker_node(llm=llm, **s) for s in specs}\n",
        "doc_writing_node = nodes[\"doc_writer\"]\n",
        "note_taking_node = nodes[\"note_taker\"]\n",
        "chart_generating_node = nodes[\"chart_generator\"]\n",
        "\n",
        "\n",
        "doc_writing_supervisor_node = make_supervisor_node(\n",
        "    llm, [\"doc_writer\", \"note_taker\", \"chart_generator\"]\n",
        ")\n"
      ],
      "metadata": {
        "id": "IObQyLJWmVyj"
      },
      "id": "IObQyLJWmVyj",
      "execution_count": null,
      "outputs": []
    },
    {
      "cell_type": "code",
      "execution_count": null,
      "metadata": {
        "ExecuteTime": {
          "end_time": "2024-05-15T08:19:53.693123Z",
          "start_time": "2024-05-15T08:19:53.678906Z"
        },
        "id": "9c5c644f-8966-4d2e-98d2-80d73520e9fe"
      },
      "outputs": [],
      "source": [
        "# Create the graph here\n",
        "paper_writing_builder = StateGraph(State)\n",
        "paper_writing_builder.add_node(\"supervisor\", doc_writing_supervisor_node)\n",
        "paper_writing_builder.add_node(\"doc_writer\", doc_writing_node)\n",
        "paper_writing_builder.add_node(\"note_taker\", note_taking_node)\n",
        "paper_writing_builder.add_node(\"chart_generator\", chart_generating_node)\n",
        "\n",
        "paper_writing_builder.add_edge(START, \"supervisor\")\n",
        "paper_writing_graph = paper_writing_builder.compile()"
      ],
      "id": "9c5c644f-8966-4d2e-98d2-80d73520e9fe"
    },
    {
      "cell_type": "code",
      "execution_count": null,
      "metadata": {
        "ExecuteTime": {
          "end_time": "2024-05-15T08:32:13.913188Z",
          "start_time": "2024-05-15T08:32:11.598993Z"
        },
        "id": "58e7d1e48a9c39a5",
        "colab": {
          "base_uri": "https://localhost:8080/",
          "height": 266
        },
        "outputId": "fe8cd6df-5fe5-40b7-d8e2-26a0fe3776d6"
      },
      "outputs": [
        {
          "output_type": "display_data",
          "data": {
            "image/png": "[encoded data removed]",
            "text/plain": [
              "<IPython.core.display.Image object>"
            ]
          },
          "metadata": {}
        }
      ],
      "source": [
        "from IPython.display import Image, display\n",
        "\n",
        "display(Image(paper_writing_graph.get_graph().draw_mermaid_png()))"
      ],
      "id": "58e7d1e48a9c39a5"
    },
    {
      "cell_type": "code",
      "execution_count": null,
      "metadata": {
        "ExecuteTime": {
          "end_time": "2024-05-15T08:19:53.723467Z",
          "start_time": "2024-05-15T08:19:53.709307Z"
        },
        "id": "9860fd46-c24d-40a5-a6ba-e8fddcd43369",
        "colab": {
          "base_uri": "https://localhost:8080/"
        },
        "outputId": "c2567f07-2647-4a3e-f936-d96286958185"
      },
      "outputs": [
        {
          "output_type": "stream",
          "name": "stdout",
          "text": [
            "{'supervisor': {'next': 'note_taker'}}\n",
            "---\n",
            "{'note_taker': {'messages': [HumanMessage(content='The outline for the poem about cats has been saved as \"poem_about_cats.txt\".', additional_kwargs={}, response_metadata={}, name='note_taker', id='efe07584-0312-4cf6-b130-a0ba10e6e983')]}}\n",
            "---\n",
            "{'supervisor': {'next': 'doc_writer'}}\n",
            "---\n",
            "{'doc_writer': {'messages': [HumanMessage(content='The outline for the poem about cats has been written to the file \"poem_about_cats.txt\".', additional_kwargs={}, response_metadata={}, name='doc_writer', id='1c1c839e-0bd5-4faa-9ae5-d685bcaecacc')]}}\n",
            "---\n",
            "{'supervisor': {'next': 'note_taker'}}\n",
            "---\n",
            "{'note_taker': {'messages': [HumanMessage(content='The outline for the poem about cats has been successfully saved to \"poem_about_cats.txt\".', additional_kwargs={}, response_metadata={}, name='note_taker', id='c15724da-1300-4028-be31-46fcba007a77')]}}\n",
            "---\n",
            "{'supervisor': {'next': 'doc_writer'}}\n",
            "---\n",
            "{'doc_writer': {'messages': [HumanMessage(content='The outline for the poem about cats has been successfully written to \"poem_about_cats.txt\".', additional_kwargs={}, response_metadata={}, name='doc_writer', id='51efb8a7-2bb4-4e85-bdb6-1724a6812d05')]}}\n",
            "---\n",
            "{'supervisor': {'next': 'doc_writer'}}\n",
            "---\n",
            "{'doc_writer': {'messages': [HumanMessage(content='The poem about cats has been successfully written to \"poem_about_cats.txt\".', additional_kwargs={}, response_metadata={}, name='doc_writer', id='67d58b96-12b5-4445-8eae-384c78611ff6')]}}\n",
            "---\n",
            "{'supervisor': {'next': '__end__'}}\n",
            "---\n"
          ]
        }
      ],
      "source": [
        "for s in paper_writing_graph.stream(\n",
        "    {\n",
        "        \"messages\": [\n",
        "            (\n",
        "                \"user\",\n",
        "                \"Write an outline for poem about cats and then write the poem to disk as txt file.\",\n",
        "            )\n",
        "        ]\n",
        "    },\n",
        "    {\"recursion_limit\": 100},\n",
        "):\n",
        "    print(s)\n",
        "    print(\"---\")"
      ],
      "id": "9860fd46-c24d-40a5-a6ba-e8fddcd43369"
    },
    {
      "cell_type": "markdown",
      "metadata": {
        "id": "f4b5b08d-9a9a-474a-94b4-f7aaa8ff19e6"
      },
      "source": [
        "## Add Layers\n",
        "\n",
        "In this design, we are enforcing a top-down planning policy. We've created two graphs already, but we have to decide how to route work between the two.\n",
        "\n",
        "We'll create a _third_ graph to orchestrate the previous two, and add some connectors to define how this top-level state is shared between the different graphs."
      ],
      "id": "f4b5b08d-9a9a-474a-94b4-f7aaa8ff19e6"
    },
    {
      "cell_type": "code",
      "execution_count": null,
      "metadata": {
        "id": "8cbfbe34-43f5-4a3d-8e9b-6a1d9b339aec"
      },
      "outputs": [],
      "source": [
        "from langchain_core.messages import BaseMessage\n",
        "\n",
        "llm = ChatOpenAI(model=\"gpt-4o\")\n",
        "\n",
        "teams_supervisor_node = make_supervisor_node(llm, [\"research_team\", \"writing_team\"])"
      ],
      "id": "8cbfbe34-43f5-4a3d-8e9b-6a1d9b339aec"
    },
    {
      "cell_type": "code",
      "execution_count": null,
      "metadata": {
        "ExecuteTime": {
          "end_time": "2024-05-15T08:19:55.469348Z",
          "start_time": "2024-05-15T08:19:55.455831Z"
        },
        "id": "4880e573-612f-4d24-97c1-2079382a4a2f"
      },
      "outputs": [],
      "source": [
        "def call_research_team(state: State) -> Command[Literal[\"supervisor\"]]:\n",
        "    response = research_graph.invoke({\"messages\": state[\"messages\"][-1]})\n",
        "    return Command(\n",
        "        update={\n",
        "            \"messages\": [\n",
        "                HumanMessage(\n",
        "                    content=response[\"messages\"][-1].content, name=\"research_team\"\n",
        "                )\n",
        "            ]\n",
        "        },\n",
        "        goto=\"supervisor\",\n",
        "    )\n",
        "\n",
        "\n",
        "def call_paper_writing_team(state: State) -> Command[Literal[\"supervisor\"]]:\n",
        "    response = paper_writing_graph.invoke({\"messages\": state[\"messages\"][-1]})\n",
        "    return Command(\n",
        "        update={\n",
        "            \"messages\": [\n",
        "                HumanMessage(\n",
        "                    content=response[\"messages\"][-1].content, name=\"writing_team\"\n",
        "                )\n",
        "            ]\n",
        "        },\n",
        "        goto=\"supervisor\",\n",
        "    )\n",
        "\n",
        "\n",
        "# Define the graph.\n",
        "super_builder = StateGraph(State)\n",
        "super_builder.add_node(\"supervisor\", teams_supervisor_node)\n",
        "super_builder.add_node(\"research_team\", call_research_team)\n",
        "super_builder.add_node(\"writing_team\", call_paper_writing_team)\n",
        "\n",
        "super_builder.add_edge(START, \"supervisor\")\n",
        "super_graph = super_builder.compile()"
      ],
      "id": "4880e573-612f-4d24-97c1-2079382a4a2f"
    },
    {
      "cell_type": "code",
      "execution_count": null,
      "metadata": {
        "ExecuteTime": {
          "end_time": "2024-05-15T08:32:33.694459Z",
          "start_time": "2024-05-15T08:32:31.524790Z"
        },
        "id": "270ff3ae26cd42ff",
        "colab": {
          "base_uri": "https://localhost:8080/",
          "height": 266
        },
        "outputId": "ea4ea531-702d-42a9-be41-a3e4b0e229b0"
      },
      "outputs": [
        {
          "output_type": "display_data",
          "data": {
            "image/png": "[encoded data removed]",
            "text/plain": [
              "<IPython.core.display.Image object>"
            ]
          },
          "metadata": {}
        }
      ],
      "source": [
        "from IPython.display import Image, display\n",
        "\n",
        "display(Image(super_graph.get_graph().draw_mermaid_png()))"
      ],
      "id": "270ff3ae26cd42ff"
    },
    {
      "cell_type": "code",
      "execution_count": null,
      "metadata": {
        "ExecuteTime": {
          "end_time": "2024-05-15T08:19:55.796497Z",
          "start_time": "2024-05-15T08:19:55.796497Z"
        },
        "id": "6b8badbf-d728-44bd-a2a7-5b4e587c92fe",
        "colab": {
          "base_uri": "https://localhost:8080/"
        },
        "outputId": "8ab6baea-8028-4df4-c22c-02d60b3ab358"
      },
      "outputs": [
        {
          "output_type": "stream",
          "name": "stdout",
          "text": [
            "{'supervisor': {'next': 'research_team'}}\n",
            "---\n",
            "{'research_team': {'messages': [HumanMessage(content=\"**Executive Summary**\\n\\nThe semiconductor industry is experiencing rapid advancements, driven by significant investments in research and development, as well as supportive legislative measures like the CHIPS Act. In 2023, the U.S. Patent and Trademark Office granted over 10,000 semiconductor-related patents, highlighting the sector's dynamic innovation landscape. Major players such as Samsung Electronics have been at the forefront, securing thousands of patents in semiconductor manufacturing. This white paper explores recent developments in semiconductor technology, the impact of legislative measures, and the competitive patent landscape.\\n\\n**Introduction**\\n\\nSemiconductors are the backbone of modern electronics, powering everything from smartphones to advanced computing systems. The industry's growth is fueled by continuous innovation and strategic investments. This report delves into the latest trends in semiconductor development, focusing on recent patents and the influence of global policies.\\n\\n**Recent Developments in Semiconductor Technology**\\n\\n1. **Technological Advancements**: The semiconductor industry has seen significant technological advancements, particularly in areas like plural semiconductor manufacturing. Companies are focusing on enhancing chip performance, reducing power consumption, and increasing production efficiency.\\n\\n2. **Key Players**: Samsung Electronics emerged as a leader in semiconductor innovation in 2023, securing over 10,000 patents. This positions the company as a major force in driving technological progress in the sector.\\n\\n3. **Patent Landscape**: The U.S. Patent and Trademark Office's issuance of over 10,000 semiconductor-related patents in 2023 underscores the industry's robust innovation pipeline. This surge in patent activity reflects the competitive nature of the semiconductor market, with companies striving to secure intellectual property rights to maintain a competitive edge.\\n\\n**Recent Patents in Semiconductor Development**\\n\\n1. **Screening Method for PIN Diodes Used in Microwave Limiters**: This patent, assigned to Honeywell Federal Manufacturing & Technologies, LLC, involves a method for screening PIN diodes used in RF applications to protect circuitry from signals above a certain threshold. [Read more](https://labpartnering.org/patents/US11733296).\\n\\n2. **A Novel Ultra-Steep Subthreshold Swing iTFET**: This patent discusses a new type of transistor with improved tunneling performance, which could significantly enhance semiconductor efficiency. [Read more](https://www.nature.com/articles/s41598-025-13011-5?error=cookies_not_supported&code=97f7c8de-6cc6-4280-99f6-9a17e11ae364).\\n\\n3. **Ultrahigh-Bandwidth Low-Latency Reconfigurable Memory Interconnects**: This innovation involves using wavelength routing to create reconfigurable memory interconnects, potentially revolutionizing data transfer speeds in semiconductor devices. [Read more](https://techtransfer.universityofcalifornia.edu/NCD/33805.html).\\n\\n**Impact of Legislative Measures**\\n\\nThe CHIPS Act, a significant legislative initiative, has played a crucial role in fostering semiconductor innovation. Since its enactment, there have been 5,477 patents filed in the U.S., with 151 already granted. This legislation aims to bolster domestic semiconductor manufacturing and research, reducing reliance on foreign supply chains and enhancing national security.\\n\\n**Global Patent Race**\\n\\nThe global semiconductor patent race is intensifying, with countries and companies vying for technological supremacy. The U.S. and EU are actively investing in semiconductor research and development, aiming to lead in chip innovation. This competitive environment is driving rapid advancements and fostering a culture of innovation within the industry.\\n\\n**Conclusion**\\n\\nThe semiconductor industry is poised for continued growth, driven by technological advancements, strategic investments, and supportive legislative measures. The surge in patent activity highlights the sector's dynamic nature and the ongoing race for innovation. As companies and countries strive to lead in semiconductor technology, the industry is set to play a pivotal role in shaping the future of electronics and computing.\\n\\n**References**\\n\\n1. [Semiconductor Tech Received Most Granted Patents in 2023](https://www.semiconductor-digest.com/semiconductor-tech-received-most-granted-patents-in-2023/)\\n2. [The Global Semiconductor Patent Race: Who's Leading in Chip Innovation](https://patentpc.com/blog/the-global-semiconductor-patent-race-whos-leading-in-chip-innovation-latest-data)\\n3. [Chipping in: The US and EU Semiconductor Patent](https://parolaanalytics.com/blog/chips-act-semiconductor-patents/)\\n4. [From Legislation to Innovation: The CHIPS Act and a New Era of Semiconductor Innovation](https://www.foley.com/insights/publications/2024/07/chips-act-new-era-semiconductor-innovation/)\\n\\nThis report provides a comprehensive overview of the current state of semiconductor development, highlighting the key players, recent technological advancements, and the impact of legislative measures on the industry.\", additional_kwargs={}, response_metadata={}, name='research_team', id='68f2e17c-cfec-4665-9899-7479f64a3a40')]}}\n",
            "---\n",
            "{'supervisor': {'next': 'writing_team'}}\n",
            "---\n",
            "{'writing_team': {'messages': [HumanMessage(content=\"Here are the contents of the two documents:\\n\\n**Outline of the Document:**\\n1. Executive Summary\\n2. Introduction\\n3. Recent Developments in Semiconductor Technology\\n4. Recent Patents in Semiconductor Development\\n5. Impact of Legislative Measures\\n6. Global Patent Race\\n7. Conclusion\\n8. References\\n\\n**Full Document on Semiconductor Industry Advancements:**\\n\\n**Executive Summary**\\n\\nThe semiconductor industry is experiencing rapid advancements, driven by significant investments in research and development, as well as supportive legislative measures like the CHIPS Act. In 2023, the U.S. Patent and Trademark Office granted over 10,000 semiconductor-related patents, highlighting the sector's dynamic innovation landscape. Major players such as Samsung Electronics have been at the forefront, securing thousands of patents in semiconductor manufacturing. This white paper explores recent developments in semiconductor technology, the impact of legislative measures, and the competitive patent landscape.\\n\\n**Introduction**\\n\\nSemiconductors are the backbone of modern electronics, powering everything from smartphones to advanced computing systems. The industry's growth is fueled by continuous innovation and strategic investments. This report delves into the latest trends in semiconductor development, focusing on recent patents and the influence of global policies.\\n\\n**Recent Developments in Semiconductor Technology**\\n\\n1. **Technological Advancements**: The semiconductor industry has seen significant technological advancements, particularly in areas like plural semiconductor manufacturing. Companies are focusing on enhancing chip performance, reducing power consumption, and increasing production efficiency.\\n\\n2. **Key Players**: Samsung Electronics emerged as a leader in semiconductor innovation in 2023, securing over 10,000 patents. This positions the company as a major force in driving technological progress in the sector.\\n\\n3. **Patent Landscape**: The U.S. Patent and Trademark Office's issuance of over 10,000 semiconductor-related patents in 2023 underscores the industry's robust innovation pipeline. This surge in patent activity reflects the competitive nature of the semiconductor market, with companies striving to secure intellectual property rights to maintain a competitive edge.\\n\\n**Recent Patents in Semiconductor Development**\\n\\n1. **Screening Method for PIN Diodes Used in Microwave Limiters**: This patent, assigned to Honeywell Federal Manufacturing & Technologies, LLC, involves a method for screening PIN diodes used in RF applications to protect circuitry from signals above a certain threshold. [Read more](https://labpartnering.org/patents/US11733296).\\n\\n2. **A Novel Ultra-Steep Subthreshold Swing iTFET**: This patent discusses a new type of transistor with improved tunneling performance, which could significantly enhance semiconductor efficiency. [Read more](https://www.nature.com/articles/s41598-025-13011-5?error=cookies_not_supported&code=97f7c8de-6cc6-4280-99f6-9a17e11ae364).\\n\\n3. **Ultrahigh-Bandwidth Low-Latency Reconfigurable Memory Interconnects**: This innovation involves using wavelength routing to create reconfigurable memory interconnects, potentially revolutionizing data transfer speeds in semiconductor devices. [Read more](https://techtransfer.universityofcalifornia.edu/NCD/33805.html).\\n\\n**Impact of Legislative Measures**\\n\\nThe CHIPS Act, a significant legislative initiative, has played a crucial role in fostering semiconductor innovation. Since its enactment, there have been 5,477 patents filed in the U.S., with 151 already granted. This legislation aims to bolster domestic semiconductor manufacturing and research, reducing reliance on foreign supply chains and enhancing national security.\\n\\n**Global Patent Race**\\n\\nThe global semiconductor patent race is intensifying, with countries and companies vying for technological supremacy. The U.S. and EU are actively investing in semiconductor research and development, aiming to lead in chip innovation. This competitive environment is driving rapid advancements and fostering a culture of innovation within the industry.\\n\\n**Conclusion**\\n\\nThe semiconductor industry is poised for continued growth, driven by technological advancements, strategic investments, and supportive legislative measures. The surge in patent activity highlights the sector's dynamic nature and the ongoing race for innovation. As companies and countries strive to lead in semiconductor technology, the industry is set to play a pivotal role in shaping the future of electronics and computing.\\n\\n**References**\\n\\n1. [Semiconductor Tech Received Most Granted Patents in 2023](https://www.semiconductor-digest.com/semiconductor-tech-received-most-granted-patents-in-2023/)\\n2. [The Global Semiconductor Patent Race: Who's Leading in Chip Innovation](https://patentpc.com/blog/the-global-semiconductor-patent-race-whos-leading-in-chip-innovation-latest-data)\\n3. [Chipping in: The US and EU Semiconductor Patent](https://parolaanalytics.com/blog/chips-act-semiconductor-patents/)\\n4. [From Legislation to Innovation: The CHIPS Act and a New Era of Semiconductor Innovation](https://www.foley.com/insights/publications/2024/07/chips-act-new-era-semiconductor-innovation/)\\n\\nThis report provides a comprehensive overview of the current state of semiconductor development, highlighting the key players, recent technological advancements, and the impact of legislative measures on the industry.\", additional_kwargs={}, response_metadata={}, name='writing_team', id='c95cd1e1-3804-4902-a5e2-95ed39e34856')]}}\n",
            "---\n",
            "{'supervisor': {'next': 'writing_team'}}\n",
            "---\n",
            "{'writing_team': {'messages': [HumanMessage(content='The contents of the two documents have been successfully read. Here they are:\\n\\n**Outline of the Document:**\\n1. Executive Summary\\n2. Introduction\\n3. Recent Developments in Semiconductor Technology\\n4. Recent Patents in Semiconductor Development\\n5. Impact of Legislative Measures\\n6. Global Patent Race\\n7. Conclusion\\n8. References\\n\\n**Full Document on Semiconductor Industry Advancements:**\\n1. Executive Summary\\n2. Introduction\\n3. Recent Developments in Semiconductor Technology\\n4. Recent Patents in Semiconductor Development\\n5. Impact of Legislative Measures\\n6. Global Patent Race\\n7. Conclusion\\n8. References\\n\\nBoth documents contain the same sections, ensuring consistency in structure.', additional_kwargs={}, response_metadata={}, name='writing_team', id='6e9854ab-3790-4888-aa03-cb2345d46655')]}}\n",
            "---\n",
            "{'supervisor': {'next': '__end__'}}\n",
            "---\n"
          ]
        }
      ],
      "source": [
        "# Tell the agents exactly what to do, including file name for persistence\n",
        "TARGET_FILE = \"semiconductor_whitepaper.txt\"\n",
        "\n",
        "TASK_MSG = f\"\"\"\n",
        "Write an 800-word research report white paper on semiconductor development.\n",
        "Start with an executive summary of your findings.\n",
        "Search for relevant recent patents and include links to them.\n",
        "IMPORTANT: Provide links to all your sources.\n",
        "Finally, save the full report to disk as a .txt file using the write_document tool.\n",
        "Use file_name=\"{TARGET_FILE}\".\n",
        "\"\"\"\n",
        "\n",
        "# Stream the graph with the new instruction\n",
        "for step in super_graph.stream(\n",
        "    {\n",
        "        \"messages\": [\n",
        "            (\"user\", TASK_MSG.strip())\n",
        "        ],\n",
        "    },\n",
        "    {\"recursion_limit\": 150},\n",
        "):\n",
        "    print(step)\n",
        "    print(\"---\")\n"
      ],
      "id": "6b8badbf-d728-44bd-a2a7-5b4e587c92fe"
    }
  ],
  "metadata": {
    "kernelspec": {
      "display_name": "Python 3 (ipykernel)",
      "language": "python",
      "name": "python3"
    },
    "language_info": {
      "codemirror_mode": {
        "name": "ipython",
        "version": 3
      },
      "file_extension": ".py",
      "mimetype": "text/x-python",
      "name": "python",
      "nbconvert_exporter": "python",
      "pygments_lexer": "ipython3",
      "version": "3.12.3"
    },
    "colab": {
      "provenance": []
    }
  },
  "nbformat": 4,
  "nbformat_minor": 5
}